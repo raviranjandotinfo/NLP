{
 "cells": [
  {
   "cell_type": "code",
   "execution_count": 1,
   "id": "b44d8c59",
   "metadata": {},
   "outputs": [],
   "source": [
    "# Importing libraries \n",
    "import pandas as pd\n",
    "import numpy as np\n",
    "import seaborn as sns\n",
    "import matplotlib.pyplot as plt\n",
    "from sklearn.feature_extraction.text import CountVectorizer\n",
    "import nltk \n",
    "import string\n",
    "import re\n",
    "%matplotlib inline\n",
    "pd.set_option('display.max_colwidth', 100)"
   ]
  },
  {
   "cell_type": "code",
   "execution_count": 2,
   "id": "05d25ed0",
   "metadata": {},
   "outputs": [
    {
     "name": "stderr",
     "output_type": "stream",
     "text": [
      "[nltk_data] Downloading package stopwords to\n",
      "[nltk_data]     /Users/raviranjan/nltk_data...\n",
      "[nltk_data]   Package stopwords is already up-to-date!\n"
     ]
    },
    {
     "data": {
      "text/plain": [
       "True"
      ]
     },
     "execution_count": 2,
     "metadata": {},
     "output_type": "execute_result"
    }
   ],
   "source": [
    "from wordcloud import WordCloud\n",
    "import nltk\n",
    "nltk.download('stopwords')"
   ]
  },
  {
   "cell_type": "code",
   "execution_count": 3,
   "id": "a66d81f7",
   "metadata": {},
   "outputs": [],
   "source": [
    "# Loading dataset containing tweet body collected by get-tweets.py file\n",
    "def load_data():\n",
    "    data = pd.read_csv('ron.csv')\n",
    "    return data"
   ]
  },
  {
   "cell_type": "code",
   "execution_count": 4,
   "id": "b7b9914e",
   "metadata": {
    "scrolled": true
   },
   "outputs": [
    {
     "data": {
      "text/html": [
       "<div>\n",
       "<style scoped>\n",
       "    .dataframe tbody tr th:only-of-type {\n",
       "        vertical-align: middle;\n",
       "    }\n",
       "\n",
       "    .dataframe tbody tr th {\n",
       "        vertical-align: top;\n",
       "    }\n",
       "\n",
       "    .dataframe thead th {\n",
       "        text-align: right;\n",
       "    }\n",
       "</style>\n",
       "<table border=\"1\" class=\"dataframe\">\n",
       "  <thead>\n",
       "    <tr style=\"text-align: right;\">\n",
       "      <th></th>\n",
       "      <th>date</th>\n",
       "      <th>tweet_body</th>\n",
       "    </tr>\n",
       "  </thead>\n",
       "  <tbody>\n",
       "    <tr>\n",
       "      <th>0</th>\n",
       "      <td>2022-12-12 14:26:19+00:00</td>\n",
       "      <td>b'RT @ben_rosen: musk: we must stop the woke mind virus, i hate unions and trans people, we need...</td>\n",
       "    </tr>\n",
       "    <tr>\n",
       "      <th>1</th>\n",
       "      <td>2022-12-12 14:26:12+00:00</td>\n",
       "      <td>b\"RT @kylegriffin1: A Miami judge has tossed out *another voter fraud case brought by Ron DeSant...</td>\n",
       "    </tr>\n",
       "    <tr>\n",
       "      <th>2</th>\n",
       "      <td>2022-12-12 14:26:06+00:00</td>\n",
       "      <td>b'RT @JHFonseca: # CASOS DE MIOCARDITE NA FL\\xc3\\x93RIDA AUMENTAM EM 86% ENTRE JOVENS DE 18 E 39...</td>\n",
       "    </tr>\n",
       "    <tr>\n",
       "      <th>3</th>\n",
       "      <td>2022-12-12 14:26:02+00:00</td>\n",
       "      <td>b\"RT @kylegriffin1: A Miami judge has tossed out *another voter fraud case brought by Ron DeSant...</td>\n",
       "    </tr>\n",
       "    <tr>\n",
       "      <th>4</th>\n",
       "      <td>2022-12-12 14:25:59+00:00</td>\n",
       "      <td>b'RT @kylegriffin1: The man who shared disinformation about Paul Pelosi, allowed hate speech to ...</td>\n",
       "    </tr>\n",
       "  </tbody>\n",
       "</table>\n",
       "</div>"
      ],
      "text/plain": [
       "                        date  \\\n",
       "0  2022-12-12 14:26:19+00:00   \n",
       "1  2022-12-12 14:26:12+00:00   \n",
       "2  2022-12-12 14:26:06+00:00   \n",
       "3  2022-12-12 14:26:02+00:00   \n",
       "4  2022-12-12 14:25:59+00:00   \n",
       "\n",
       "                                                                                            tweet_body  \n",
       "0  b'RT @ben_rosen: musk: we must stop the woke mind virus, i hate unions and trans people, we need...  \n",
       "1  b\"RT @kylegriffin1: A Miami judge has tossed out *another voter fraud case brought by Ron DeSant...  \n",
       "2  b'RT @JHFonseca: # CASOS DE MIOCARDITE NA FL\\xc3\\x93RIDA AUMENTAM EM 86% ENTRE JOVENS DE 18 E 39...  \n",
       "3  b\"RT @kylegriffin1: A Miami judge has tossed out *another voter fraud case brought by Ron DeSant...  \n",
       "4  b'RT @kylegriffin1: The man who shared disinformation about Paul Pelosi, allowed hate speech to ...  "
      ]
     },
     "execution_count": 4,
     "metadata": {},
     "output_type": "execute_result"
    }
   ],
   "source": [
    "ron_tweets = load_data()\n",
    "ron_tweets.head()"
   ]
  },
  {
   "cell_type": "code",
   "execution_count": 5,
   "id": "ebd96158",
   "metadata": {},
   "outputs": [
    {
     "name": "stdout",
     "output_type": "stream",
     "text": [
      "Shape of Dataset: (17992, 2)\n",
      "Columns of Dataset Index(['date', 'tweet_body'], dtype='object')\n"
     ]
    }
   ],
   "source": [
    "print('Shape of Dataset:',ron_tweets.shape)\n",
    "print('Columns of Dataset',ron_tweets.columns)"
   ]
  },
  {
   "cell_type": "code",
   "execution_count": 6,
   "id": "5e763188",
   "metadata": {
    "scrolled": true
   },
   "outputs": [
    {
     "name": "stdout",
     "output_type": "stream",
     "text": [
      "<class 'pandas.core.frame.DataFrame'>\n",
      "RangeIndex: 17992 entries, 0 to 17991\n",
      "Data columns (total 2 columns):\n",
      " #   Column      Non-Null Count  Dtype \n",
      "---  ------      --------------  ----- \n",
      " 0   date        17992 non-null  object\n",
      " 1   tweet_body  17992 non-null  object\n",
      "dtypes: object(2)\n",
      "memory usage: 281.2+ KB\n"
     ]
    }
   ],
   "source": [
    "ron_tweets.info()"
   ]
  },
  {
   "cell_type": "code",
   "execution_count": 7,
   "id": "6eb7945d",
   "metadata": {},
   "outputs": [
    {
     "data": {
      "image/png": "[encoded data removed]",
      "text/plain": [
       "<Figure size 432x288 with 1 Axes>"
      ]
     },
     "metadata": {
      "needs_background": "light"
     },
     "output_type": "display_data"
    }
   ],
   "source": [
    "# Generating Word Cloud to see the keywords\n",
    "\n",
    "tweet_main_body = \" \".join(review for review in ron_tweets.tweet_body)\n",
    "\n",
    "tweets_word_cloud = WordCloud(collocations = False, background_color = 'white').generate(tweet_main_body)\n",
    "\n",
    "# Display the generated Word Cloud\n",
    "\n",
    "plt.imshow(tweets_word_cloud, interpolation='bilinear')\n",
    "plt.axis(\"off\")\n",
    "plt.show()"
   ]
  },
  {
   "cell_type": "markdown",
   "id": "2ea29e4c",
   "metadata": {},
   "source": [
    "Data preprocessing "
   ]
  },
  {
   "cell_type": "code",
   "execution_count": 8,
   "id": "ccc8c4b8",
   "metadata": {},
   "outputs": [
    {
     "data": {
      "text/plain": [
       "'!\"#$%&\\'()*+,-./:;<=>?@[\\\\]^_`{|}~'"
      ]
     },
     "execution_count": 8,
     "metadata": {},
     "output_type": "execute_result"
    }
   ],
   "source": [
    "string.punctuation"
   ]
  },
  {
   "cell_type": "code",
   "execution_count": 9,
   "id": "c1b253a5",
   "metadata": {},
   "outputs": [
    {
     "data": {
      "text/html": [
       "<div>\n",
       "<style scoped>\n",
       "    .dataframe tbody tr th:only-of-type {\n",
       "        vertical-align: middle;\n",
       "    }\n",
       "\n",
       "    .dataframe tbody tr th {\n",
       "        vertical-align: top;\n",
       "    }\n",
       "\n",
       "    .dataframe thead th {\n",
       "        text-align: right;\n",
       "    }\n",
       "</style>\n",
       "<table border=\"1\" class=\"dataframe\">\n",
       "  <thead>\n",
       "    <tr style=\"text-align: right;\">\n",
       "      <th></th>\n",
       "      <th>date</th>\n",
       "      <th>tweet_body</th>\n",
       "      <th>tweet_punct</th>\n",
       "    </tr>\n",
       "  </thead>\n",
       "  <tbody>\n",
       "    <tr>\n",
       "      <th>0</th>\n",
       "      <td>2022-12-12 14:26:19+00:00</td>\n",
       "      <td>b'RT @ben_rosen: musk: we must stop the woke mind virus, i hate unions and trans people, we need...</td>\n",
       "      <td>bRT benrosen musk we must stop the woke mind virus i hate unions and trans people we need a repu...</td>\n",
       "    </tr>\n",
       "    <tr>\n",
       "      <th>1</th>\n",
       "      <td>2022-12-12 14:26:12+00:00</td>\n",
       "      <td>b\"RT @kylegriffin1: A Miami judge has tossed out *another voter fraud case brought by Ron DeSant...</td>\n",
       "      <td>bRT kylegriffin A Miami judge has tossed out another voter fraud case brought by Ron DeSantis el...</td>\n",
       "    </tr>\n",
       "    <tr>\n",
       "      <th>2</th>\n",
       "      <td>2022-12-12 14:26:06+00:00</td>\n",
       "      <td>b'RT @JHFonseca: # CASOS DE MIOCARDITE NA FL\\xc3\\x93RIDA AUMENTAM EM 86% ENTRE JOVENS DE 18 E 39...</td>\n",
       "      <td>bRT JHFonseca  CASOS DE MIOCARDITE NA FLxcxRIDA AUMENTAM EM  ENTRE JOVENS DE  E  ANOS APxcxS A V...</td>\n",
       "    </tr>\n",
       "    <tr>\n",
       "      <th>3</th>\n",
       "      <td>2022-12-12 14:26:02+00:00</td>\n",
       "      <td>b\"RT @kylegriffin1: A Miami judge has tossed out *another voter fraud case brought by Ron DeSant...</td>\n",
       "      <td>bRT kylegriffin A Miami judge has tossed out another voter fraud case brought by Ron DeSantis el...</td>\n",
       "    </tr>\n",
       "    <tr>\n",
       "      <th>4</th>\n",
       "      <td>2022-12-12 14:25:59+00:00</td>\n",
       "      <td>b'RT @kylegriffin1: The man who shared disinformation about Paul Pelosi, allowed hate speech to ...</td>\n",
       "      <td>bRT kylegriffin The man who shared disinformation about Paul Pelosi allowed hate speech to flour...</td>\n",
       "    </tr>\n",
       "    <tr>\n",
       "      <th>5</th>\n",
       "      <td>2022-12-12 14:25:57+00:00</td>\n",
       "      <td>b\"RT @kylegriffin1: A Miami judge has tossed out *another voter fraud case brought by Ron DeSant...</td>\n",
       "      <td>bRT kylegriffin A Miami judge has tossed out another voter fraud case brought by Ron DeSantis el...</td>\n",
       "    </tr>\n",
       "    <tr>\n",
       "      <th>6</th>\n",
       "      <td>2022-12-12 14:25:53+00:00</td>\n",
       "      <td>b\"RT @kylegriffin1: A Miami judge has tossed out *another voter fraud case brought by Ron DeSant...</td>\n",
       "      <td>bRT kylegriffin A Miami judge has tossed out another voter fraud case brought by Ron DeSantis el...</td>\n",
       "    </tr>\n",
       "    <tr>\n",
       "      <th>7</th>\n",
       "      <td>2022-12-12 14:25:49+00:00</td>\n",
       "      <td>b\"RT @kylegriffin1: A Miami judge has tossed out *another voter fraud case brought by Ron DeSant...</td>\n",
       "      <td>bRT kylegriffin A Miami judge has tossed out another voter fraud case brought by Ron DeSantis el...</td>\n",
       "    </tr>\n",
       "    <tr>\n",
       "      <th>8</th>\n",
       "      <td>2022-12-12 14:25:47+00:00</td>\n",
       "      <td>b\"RT @atrupar: MUSK: libs have the woke mind virus\\nNYT ...\\nMUSK: I'm literally urging you to v...</td>\n",
       "      <td>bRT atrupar MUSK libs have the woke mind virusnNYT nMUSK Im literally urging you to vote Republi...</td>\n",
       "    </tr>\n",
       "    <tr>\n",
       "      <th>9</th>\n",
       "      <td>2022-12-12 14:25:43+00:00</td>\n",
       "      <td>b'RT @kylegriffin1: The man who shared disinformation about Paul Pelosi, allowed hate speech to ...</td>\n",
       "      <td>bRT kylegriffin The man who shared disinformation about Paul Pelosi allowed hate speech to flour...</td>\n",
       "    </tr>\n",
       "  </tbody>\n",
       "</table>\n",
       "</div>"
      ],
      "text/plain": [
       "                        date  \\\n",
       "0  2022-12-12 14:26:19+00:00   \n",
       "1  2022-12-12 14:26:12+00:00   \n",
       "2  2022-12-12 14:26:06+00:00   \n",
       "3  2022-12-12 14:26:02+00:00   \n",
       "4  2022-12-12 14:25:59+00:00   \n",
       "5  2022-12-12 14:25:57+00:00   \n",
       "6  2022-12-12 14:25:53+00:00   \n",
       "7  2022-12-12 14:25:49+00:00   \n",
       "8  2022-12-12 14:25:47+00:00   \n",
       "9  2022-12-12 14:25:43+00:00   \n",
       "\n",
       "                                                                                            tweet_body  \\\n",
       "0  b'RT @ben_rosen: musk: we must stop the woke mind virus, i hate unions and trans people, we need...   \n",
       "1  b\"RT @kylegriffin1: A Miami judge has tossed out *another voter fraud case brought by Ron DeSant...   \n",
       "2  b'RT @JHFonseca: # CASOS DE MIOCARDITE NA FL\\xc3\\x93RIDA AUMENTAM EM 86% ENTRE JOVENS DE 18 E 39...   \n",
       "3  b\"RT @kylegriffin1: A Miami judge has tossed out *another voter fraud case brought by Ron DeSant...   \n",
       "4  b'RT @kylegriffin1: The man who shared disinformation about Paul Pelosi, allowed hate speech to ...   \n",
       "5  b\"RT @kylegriffin1: A Miami judge has tossed out *another voter fraud case brought by Ron DeSant...   \n",
       "6  b\"RT @kylegriffin1: A Miami judge has tossed out *another voter fraud case brought by Ron DeSant...   \n",
       "7  b\"RT @kylegriffin1: A Miami judge has tossed out *another voter fraud case brought by Ron DeSant...   \n",
       "8  b\"RT @atrupar: MUSK: libs have the woke mind virus\\nNYT ...\\nMUSK: I'm literally urging you to v...   \n",
       "9  b'RT @kylegriffin1: The man who shared disinformation about Paul Pelosi, allowed hate speech to ...   \n",
       "\n",
       "                                                                                           tweet_punct  \n",
       "0  bRT benrosen musk we must stop the woke mind virus i hate unions and trans people we need a repu...  \n",
       "1  bRT kylegriffin A Miami judge has tossed out another voter fraud case brought by Ron DeSantis el...  \n",
       "2  bRT JHFonseca  CASOS DE MIOCARDITE NA FLxcxRIDA AUMENTAM EM  ENTRE JOVENS DE  E  ANOS APxcxS A V...  \n",
       "3  bRT kylegriffin A Miami judge has tossed out another voter fraud case brought by Ron DeSantis el...  \n",
       "4  bRT kylegriffin The man who shared disinformation about Paul Pelosi allowed hate speech to flour...  \n",
       "5  bRT kylegriffin A Miami judge has tossed out another voter fraud case brought by Ron DeSantis el...  \n",
       "6  bRT kylegriffin A Miami judge has tossed out another voter fraud case brought by Ron DeSantis el...  \n",
       "7  bRT kylegriffin A Miami judge has tossed out another voter fraud case brought by Ron DeSantis el...  \n",
       "8  bRT atrupar MUSK libs have the woke mind virusnNYT nMUSK Im literally urging you to vote Republi...  \n",
       "9  bRT kylegriffin The man who shared disinformation about Paul Pelosi allowed hate speech to flour...  "
      ]
     },
     "execution_count": 9,
     "metadata": {},
     "output_type": "execute_result"
    }
   ],
   "source": [
    "def remove_punctuation(text):\n",
    "    text  = \"\".join([char for char in text if char not in string.punctuation])\n",
    "    text = re.sub('[0-9]+', '', text)\n",
    "    return text\n",
    "\n",
    "ron_tweets['tweet_punct'] = ron_tweets['tweet_body'].apply(lambda x: remove_punctuation(x))\n",
    "ron_tweets.head(10)"
   ]
  },
  {
   "cell_type": "code",
   "execution_count": 10,
   "id": "5ec291b1",
   "metadata": {},
   "outputs": [
    {
     "data": {
      "text/html": [
       "<div>\n",
       "<style scoped>\n",
       "    .dataframe tbody tr th:only-of-type {\n",
       "        vertical-align: middle;\n",
       "    }\n",
       "\n",
       "    .dataframe tbody tr th {\n",
       "        vertical-align: top;\n",
       "    }\n",
       "\n",
       "    .dataframe thead th {\n",
       "        text-align: right;\n",
       "    }\n",
       "</style>\n",
       "<table border=\"1\" class=\"dataframe\">\n",
       "  <thead>\n",
       "    <tr style=\"text-align: right;\">\n",
       "      <th></th>\n",
       "      <th>date</th>\n",
       "      <th>tweet_body</th>\n",
       "      <th>tweet_punct</th>\n",
       "      <th>tweet_tokenized</th>\n",
       "    </tr>\n",
       "  </thead>\n",
       "  <tbody>\n",
       "    <tr>\n",
       "      <th>0</th>\n",
       "      <td>2022-12-12 14:26:19+00:00</td>\n",
       "      <td>b'RT @ben_rosen: musk: we must stop the woke mind virus, i hate unions and trans people, we need...</td>\n",
       "      <td>bRT benrosen musk we must stop the woke mind virus i hate unions and trans people we need a repu...</td>\n",
       "      <td>[brt, benrosen, musk, we, must, stop, the, woke, mind, virus, i, hate, unions, and, trans, peopl...</td>\n",
       "    </tr>\n",
       "    <tr>\n",
       "      <th>1</th>\n",
       "      <td>2022-12-12 14:26:12+00:00</td>\n",
       "      <td>b\"RT @kylegriffin1: A Miami judge has tossed out *another voter fraud case brought by Ron DeSant...</td>\n",
       "      <td>bRT kylegriffin A Miami judge has tossed out another voter fraud case brought by Ron DeSantis el...</td>\n",
       "      <td>[brt, kylegriffin, a, miami, judge, has, tossed, out, another, voter, fraud, case, brought, by, ...</td>\n",
       "    </tr>\n",
       "    <tr>\n",
       "      <th>2</th>\n",
       "      <td>2022-12-12 14:26:06+00:00</td>\n",
       "      <td>b'RT @JHFonseca: # CASOS DE MIOCARDITE NA FL\\xc3\\x93RIDA AUMENTAM EM 86% ENTRE JOVENS DE 18 E 39...</td>\n",
       "      <td>bRT JHFonseca  CASOS DE MIOCARDITE NA FLxcxRIDA AUMENTAM EM  ENTRE JOVENS DE  E  ANOS APxcxS A V...</td>\n",
       "      <td>[brt, jhfonseca, casos, de, miocardite, na, flxcxrida, aumentam, em, entre, jovens, de, e, anos,...</td>\n",
       "    </tr>\n",
       "    <tr>\n",
       "      <th>3</th>\n",
       "      <td>2022-12-12 14:26:02+00:00</td>\n",
       "      <td>b\"RT @kylegriffin1: A Miami judge has tossed out *another voter fraud case brought by Ron DeSant...</td>\n",
       "      <td>bRT kylegriffin A Miami judge has tossed out another voter fraud case brought by Ron DeSantis el...</td>\n",
       "      <td>[brt, kylegriffin, a, miami, judge, has, tossed, out, another, voter, fraud, case, brought, by, ...</td>\n",
       "    </tr>\n",
       "    <tr>\n",
       "      <th>4</th>\n",
       "      <td>2022-12-12 14:25:59+00:00</td>\n",
       "      <td>b'RT @kylegriffin1: The man who shared disinformation about Paul Pelosi, allowed hate speech to ...</td>\n",
       "      <td>bRT kylegriffin The man who shared disinformation about Paul Pelosi allowed hate speech to flour...</td>\n",
       "      <td>[brt, kylegriffin, the, man, who, shared, disinformation, about, paul, pelosi, allowed, hate, sp...</td>\n",
       "    </tr>\n",
       "  </tbody>\n",
       "</table>\n",
       "</div>"
      ],
      "text/plain": [
       "                        date  \\\n",
       "0  2022-12-12 14:26:19+00:00   \n",
       "1  2022-12-12 14:26:12+00:00   \n",
       "2  2022-12-12 14:26:06+00:00   \n",
       "3  2022-12-12 14:26:02+00:00   \n",
       "4  2022-12-12 14:25:59+00:00   \n",
       "\n",
       "                                                                                            tweet_body  \\\n",
       "0  b'RT @ben_rosen: musk: we must stop the woke mind virus, i hate unions and trans people, we need...   \n",
       "1  b\"RT @kylegriffin1: A Miami judge has tossed out *another voter fraud case brought by Ron DeSant...   \n",
       "2  b'RT @JHFonseca: # CASOS DE MIOCARDITE NA FL\\xc3\\x93RIDA AUMENTAM EM 86% ENTRE JOVENS DE 18 E 39...   \n",
       "3  b\"RT @kylegriffin1: A Miami judge has tossed out *another voter fraud case brought by Ron DeSant...   \n",
       "4  b'RT @kylegriffin1: The man who shared disinformation about Paul Pelosi, allowed hate speech to ...   \n",
       "\n",
       "                                                                                           tweet_punct  \\\n",
       "0  bRT benrosen musk we must stop the woke mind virus i hate unions and trans people we need a repu...   \n",
       "1  bRT kylegriffin A Miami judge has tossed out another voter fraud case brought by Ron DeSantis el...   \n",
       "2  bRT JHFonseca  CASOS DE MIOCARDITE NA FLxcxRIDA AUMENTAM EM  ENTRE JOVENS DE  E  ANOS APxcxS A V...   \n",
       "3  bRT kylegriffin A Miami judge has tossed out another voter fraud case brought by Ron DeSantis el...   \n",
       "4  bRT kylegriffin The man who shared disinformation about Paul Pelosi allowed hate speech to flour...   \n",
       "\n",
       "                                                                                       tweet_tokenized  \n",
       "0  [brt, benrosen, musk, we, must, stop, the, woke, mind, virus, i, hate, unions, and, trans, peopl...  \n",
       "1  [brt, kylegriffin, a, miami, judge, has, tossed, out, another, voter, fraud, case, brought, by, ...  \n",
       "2  [brt, jhfonseca, casos, de, miocardite, na, flxcxrida, aumentam, em, entre, jovens, de, e, anos,...  \n",
       "3  [brt, kylegriffin, a, miami, judge, has, tossed, out, another, voter, fraud, case, brought, by, ...  \n",
       "4  [brt, kylegriffin, the, man, who, shared, disinformation, about, paul, pelosi, allowed, hate, sp...  "
      ]
     },
     "execution_count": 10,
     "metadata": {},
     "output_type": "execute_result"
    }
   ],
   "source": [
    "#Tokenization\n",
    "def tokenization(text):\n",
    "    text = re.split('\\W+', text)\n",
    "    return text\n",
    "\n",
    "ron_tweets['tweet_tokenized'] = ron_tweets['tweet_punct'].apply(lambda x: tokenization(x.lower()))\n",
    "ron_tweets.head()"
   ]
  },
  {
   "cell_type": "markdown",
   "id": "f0c571a8",
   "metadata": {},
   "source": [
    "Removing stop words "
   ]
  },
  {
   "cell_type": "code",
   "execution_count": 11,
   "id": "f9bc3add",
   "metadata": {},
   "outputs": [],
   "source": [
    "stopword = nltk.corpus.stopwords.words('english')"
   ]
  },
  {
   "cell_type": "code",
   "execution_count": 12,
   "id": "3f62aa40",
   "metadata": {
    "scrolled": true
   },
   "outputs": [
    {
     "data": {
      "text/html": [
       "<div>\n",
       "<style scoped>\n",
       "    .dataframe tbody tr th:only-of-type {\n",
       "        vertical-align: middle;\n",
       "    }\n",
       "\n",
       "    .dataframe tbody tr th {\n",
       "        vertical-align: top;\n",
       "    }\n",
       "\n",
       "    .dataframe thead th {\n",
       "        text-align: right;\n",
       "    }\n",
       "</style>\n",
       "<table border=\"1\" class=\"dataframe\">\n",
       "  <thead>\n",
       "    <tr style=\"text-align: right;\">\n",
       "      <th></th>\n",
       "      <th>date</th>\n",
       "      <th>tweet_body</th>\n",
       "      <th>tweet_punct</th>\n",
       "      <th>tweet_tokenized</th>\n",
       "      <th>tweet_nonstop</th>\n",
       "    </tr>\n",
       "  </thead>\n",
       "  <tbody>\n",
       "    <tr>\n",
       "      <th>0</th>\n",
       "      <td>2022-12-12 14:26:19+00:00</td>\n",
       "      <td>b'RT @ben_rosen: musk: we must stop the woke mind virus, i hate unions and trans people, we need...</td>\n",
       "      <td>bRT benrosen musk we must stop the woke mind virus i hate unions and trans people we need a repu...</td>\n",
       "      <td>[brt, benrosen, musk, we, must, stop, the, woke, mind, virus, i, hate, unions, and, trans, peopl...</td>\n",
       "      <td>[brt, benrosen, musk, must, stop, woke, mind, virus, hate, unions, trans, people, need, republic...</td>\n",
       "    </tr>\n",
       "    <tr>\n",
       "      <th>1</th>\n",
       "      <td>2022-12-12 14:26:12+00:00</td>\n",
       "      <td>b\"RT @kylegriffin1: A Miami judge has tossed out *another voter fraud case brought by Ron DeSant...</td>\n",
       "      <td>bRT kylegriffin A Miami judge has tossed out another voter fraud case brought by Ron DeSantis el...</td>\n",
       "      <td>[brt, kylegriffin, a, miami, judge, has, tossed, out, another, voter, fraud, case, brought, by, ...</td>\n",
       "      <td>[brt, kylegriffin, miami, judge, tossed, another, voter, fraud, case, brought, ron, desantis, el...</td>\n",
       "    </tr>\n",
       "    <tr>\n",
       "      <th>2</th>\n",
       "      <td>2022-12-12 14:26:06+00:00</td>\n",
       "      <td>b'RT @JHFonseca: # CASOS DE MIOCARDITE NA FL\\xc3\\x93RIDA AUMENTAM EM 86% ENTRE JOVENS DE 18 E 39...</td>\n",
       "      <td>bRT JHFonseca  CASOS DE MIOCARDITE NA FLxcxRIDA AUMENTAM EM  ENTRE JOVENS DE  E  ANOS APxcxS A V...</td>\n",
       "      <td>[brt, jhfonseca, casos, de, miocardite, na, flxcxrida, aumentam, em, entre, jovens, de, e, anos,...</td>\n",
       "      <td>[brt, jhfonseca, casos, de, miocardite, na, flxcxrida, aumentam, em, entre, jovens, de, e, anos,...</td>\n",
       "    </tr>\n",
       "    <tr>\n",
       "      <th>3</th>\n",
       "      <td>2022-12-12 14:26:02+00:00</td>\n",
       "      <td>b\"RT @kylegriffin1: A Miami judge has tossed out *another voter fraud case brought by Ron DeSant...</td>\n",
       "      <td>bRT kylegriffin A Miami judge has tossed out another voter fraud case brought by Ron DeSantis el...</td>\n",
       "      <td>[brt, kylegriffin, a, miami, judge, has, tossed, out, another, voter, fraud, case, brought, by, ...</td>\n",
       "      <td>[brt, kylegriffin, miami, judge, tossed, another, voter, fraud, case, brought, ron, desantis, el...</td>\n",
       "    </tr>\n",
       "    <tr>\n",
       "      <th>4</th>\n",
       "      <td>2022-12-12 14:25:59+00:00</td>\n",
       "      <td>b'RT @kylegriffin1: The man who shared disinformation about Paul Pelosi, allowed hate speech to ...</td>\n",
       "      <td>bRT kylegriffin The man who shared disinformation about Paul Pelosi allowed hate speech to flour...</td>\n",
       "      <td>[brt, kylegriffin, the, man, who, shared, disinformation, about, paul, pelosi, allowed, hate, sp...</td>\n",
       "      <td>[brt, kylegriffin, man, shared, disinformation, paul, pelosi, allowed, hate, speech, flourish, p...</td>\n",
       "    </tr>\n",
       "  </tbody>\n",
       "</table>\n",
       "</div>"
      ],
      "text/plain": [
       "                        date  \\\n",
       "0  2022-12-12 14:26:19+00:00   \n",
       "1  2022-12-12 14:26:12+00:00   \n",
       "2  2022-12-12 14:26:06+00:00   \n",
       "3  2022-12-12 14:26:02+00:00   \n",
       "4  2022-12-12 14:25:59+00:00   \n",
       "\n",
       "                                                                                            tweet_body  \\\n",
       "0  b'RT @ben_rosen: musk: we must stop the woke mind virus, i hate unions and trans people, we need...   \n",
       "1  b\"RT @kylegriffin1: A Miami judge has tossed out *another voter fraud case brought by Ron DeSant...   \n",
       "2  b'RT @JHFonseca: # CASOS DE MIOCARDITE NA FL\\xc3\\x93RIDA AUMENTAM EM 86% ENTRE JOVENS DE 18 E 39...   \n",
       "3  b\"RT @kylegriffin1: A Miami judge has tossed out *another voter fraud case brought by Ron DeSant...   \n",
       "4  b'RT @kylegriffin1: The man who shared disinformation about Paul Pelosi, allowed hate speech to ...   \n",
       "\n",
       "                                                                                           tweet_punct  \\\n",
       "0  bRT benrosen musk we must stop the woke mind virus i hate unions and trans people we need a repu...   \n",
       "1  bRT kylegriffin A Miami judge has tossed out another voter fraud case brought by Ron DeSantis el...   \n",
       "2  bRT JHFonseca  CASOS DE MIOCARDITE NA FLxcxRIDA AUMENTAM EM  ENTRE JOVENS DE  E  ANOS APxcxS A V...   \n",
       "3  bRT kylegriffin A Miami judge has tossed out another voter fraud case brought by Ron DeSantis el...   \n",
       "4  bRT kylegriffin The man who shared disinformation about Paul Pelosi allowed hate speech to flour...   \n",
       "\n",
       "                                                                                       tweet_tokenized  \\\n",
       "0  [brt, benrosen, musk, we, must, stop, the, woke, mind, virus, i, hate, unions, and, trans, peopl...   \n",
       "1  [brt, kylegriffin, a, miami, judge, has, tossed, out, another, voter, fraud, case, brought, by, ...   \n",
       "2  [brt, jhfonseca, casos, de, miocardite, na, flxcxrida, aumentam, em, entre, jovens, de, e, anos,...   \n",
       "3  [brt, kylegriffin, a, miami, judge, has, tossed, out, another, voter, fraud, case, brought, by, ...   \n",
       "4  [brt, kylegriffin, the, man, who, shared, disinformation, about, paul, pelosi, allowed, hate, sp...   \n",
       "\n",
       "                                                                                         tweet_nonstop  \n",
       "0  [brt, benrosen, musk, must, stop, woke, mind, virus, hate, unions, trans, people, need, republic...  \n",
       "1  [brt, kylegriffin, miami, judge, tossed, another, voter, fraud, case, brought, ron, desantis, el...  \n",
       "2  [brt, jhfonseca, casos, de, miocardite, na, flxcxrida, aumentam, em, entre, jovens, de, e, anos,...  \n",
       "3  [brt, kylegriffin, miami, judge, tossed, another, voter, fraud, case, brought, ron, desantis, el...  \n",
       "4  [brt, kylegriffin, man, shared, disinformation, paul, pelosi, allowed, hate, speech, flourish, p...  "
      ]
     },
     "execution_count": 12,
     "metadata": {},
     "output_type": "execute_result"
    }
   ],
   "source": [
    "def remove_stopwords(text):\n",
    "    text = [word for word in text if word not in stopword]\n",
    "    return text\n",
    "    \n",
    "ron_tweets['tweet_nonstop'] = ron_tweets['tweet_tokenized'].apply(lambda x: remove_stopwords(x))\n",
    "ron_tweets.head()"
   ]
  },
  {
   "cell_type": "markdown",
   "id": "5cdf5e0b",
   "metadata": {},
   "source": [
    "Lammitization after stopwords"
   ]
  },
  {
   "cell_type": "code",
   "execution_count": 13,
   "id": "96dae27c",
   "metadata": {},
   "outputs": [
    {
     "data": {
      "text/html": [
       "<div>\n",
       "<style scoped>\n",
       "    .dataframe tbody tr th:only-of-type {\n",
       "        vertical-align: middle;\n",
       "    }\n",
       "\n",
       "    .dataframe tbody tr th {\n",
       "        vertical-align: top;\n",
       "    }\n",
       "\n",
       "    .dataframe thead th {\n",
       "        text-align: right;\n",
       "    }\n",
       "</style>\n",
       "<table border=\"1\" class=\"dataframe\">\n",
       "  <thead>\n",
       "    <tr style=\"text-align: right;\">\n",
       "      <th></th>\n",
       "      <th>date</th>\n",
       "      <th>tweet_body</th>\n",
       "      <th>tweet_punct</th>\n",
       "      <th>tweet_tokenized</th>\n",
       "      <th>tweet_nonstop</th>\n",
       "      <th>tweet_stemmed</th>\n",
       "    </tr>\n",
       "  </thead>\n",
       "  <tbody>\n",
       "    <tr>\n",
       "      <th>0</th>\n",
       "      <td>2022-12-12 14:26:19+00:00</td>\n",
       "      <td>b'RT @ben_rosen: musk: we must stop the woke mind virus, i hate unions and trans people, we need...</td>\n",
       "      <td>bRT benrosen musk we must stop the woke mind virus i hate unions and trans people we need a repu...</td>\n",
       "      <td>[brt, benrosen, musk, we, must, stop, the, woke, mind, virus, i, hate, unions, and, trans, peopl...</td>\n",
       "      <td>[brt, benrosen, musk, must, stop, woke, mind, virus, hate, unions, trans, people, need, republic...</td>\n",
       "      <td>[brt, benrosen, musk, must, stop, woke, mind, viru, hate, union, tran, peopl, need, republican, ...</td>\n",
       "    </tr>\n",
       "    <tr>\n",
       "      <th>1</th>\n",
       "      <td>2022-12-12 14:26:12+00:00</td>\n",
       "      <td>b\"RT @kylegriffin1: A Miami judge has tossed out *another voter fraud case brought by Ron DeSant...</td>\n",
       "      <td>bRT kylegriffin A Miami judge has tossed out another voter fraud case brought by Ron DeSantis el...</td>\n",
       "      <td>[brt, kylegriffin, a, miami, judge, has, tossed, out, another, voter, fraud, case, brought, by, ...</td>\n",
       "      <td>[brt, kylegriffin, miami, judge, tossed, another, voter, fraud, case, brought, ron, desantis, el...</td>\n",
       "      <td>[brt, kylegriffin, miami, judg, toss, anoth, voter, fraud, case, brought, ron, desanti, elect, p...</td>\n",
       "    </tr>\n",
       "    <tr>\n",
       "      <th>2</th>\n",
       "      <td>2022-12-12 14:26:06+00:00</td>\n",
       "      <td>b'RT @JHFonseca: # CASOS DE MIOCARDITE NA FL\\xc3\\x93RIDA AUMENTAM EM 86% ENTRE JOVENS DE 18 E 39...</td>\n",
       "      <td>bRT JHFonseca  CASOS DE MIOCARDITE NA FLxcxRIDA AUMENTAM EM  ENTRE JOVENS DE  E  ANOS APxcxS A V...</td>\n",
       "      <td>[brt, jhfonseca, casos, de, miocardite, na, flxcxrida, aumentam, em, entre, jovens, de, e, anos,...</td>\n",
       "      <td>[brt, jhfonseca, casos, de, miocardite, na, flxcxrida, aumentam, em, entre, jovens, de, e, anos,...</td>\n",
       "      <td>[brt, jhfonseca, caso, de, miocardit, na, flxcxrida, aumentam, em, entr, joven, de, e, ano, apxc...</td>\n",
       "    </tr>\n",
       "    <tr>\n",
       "      <th>3</th>\n",
       "      <td>2022-12-12 14:26:02+00:00</td>\n",
       "      <td>b\"RT @kylegriffin1: A Miami judge has tossed out *another voter fraud case brought by Ron DeSant...</td>\n",
       "      <td>bRT kylegriffin A Miami judge has tossed out another voter fraud case brought by Ron DeSantis el...</td>\n",
       "      <td>[brt, kylegriffin, a, miami, judge, has, tossed, out, another, voter, fraud, case, brought, by, ...</td>\n",
       "      <td>[brt, kylegriffin, miami, judge, tossed, another, voter, fraud, case, brought, ron, desantis, el...</td>\n",
       "      <td>[brt, kylegriffin, miami, judg, toss, anoth, voter, fraud, case, brought, ron, desanti, elect, p...</td>\n",
       "    </tr>\n",
       "    <tr>\n",
       "      <th>4</th>\n",
       "      <td>2022-12-12 14:25:59+00:00</td>\n",
       "      <td>b'RT @kylegriffin1: The man who shared disinformation about Paul Pelosi, allowed hate speech to ...</td>\n",
       "      <td>bRT kylegriffin The man who shared disinformation about Paul Pelosi allowed hate speech to flour...</td>\n",
       "      <td>[brt, kylegriffin, the, man, who, shared, disinformation, about, paul, pelosi, allowed, hate, sp...</td>\n",
       "      <td>[brt, kylegriffin, man, shared, disinformation, paul, pelosi, allowed, hate, speech, flourish, p...</td>\n",
       "      <td>[brt, kylegriffin, man, share, disinform, paul, pelosi, allow, hate, speech, flourish, platform,...</td>\n",
       "    </tr>\n",
       "  </tbody>\n",
       "</table>\n",
       "</div>"
      ],
      "text/plain": [
       "                        date  \\\n",
       "0  2022-12-12 14:26:19+00:00   \n",
       "1  2022-12-12 14:26:12+00:00   \n",
       "2  2022-12-12 14:26:06+00:00   \n",
       "3  2022-12-12 14:26:02+00:00   \n",
       "4  2022-12-12 14:25:59+00:00   \n",
       "\n",
       "                                                                                            tweet_body  \\\n",
       "0  b'RT @ben_rosen: musk: we must stop the woke mind virus, i hate unions and trans people, we need...   \n",
       "1  b\"RT @kylegriffin1: A Miami judge has tossed out *another voter fraud case brought by Ron DeSant...   \n",
       "2  b'RT @JHFonseca: # CASOS DE MIOCARDITE NA FL\\xc3\\x93RIDA AUMENTAM EM 86% ENTRE JOVENS DE 18 E 39...   \n",
       "3  b\"RT @kylegriffin1: A Miami judge has tossed out *another voter fraud case brought by Ron DeSant...   \n",
       "4  b'RT @kylegriffin1: The man who shared disinformation about Paul Pelosi, allowed hate speech to ...   \n",
       "\n",
       "                                                                                           tweet_punct  \\\n",
       "0  bRT benrosen musk we must stop the woke mind virus i hate unions and trans people we need a repu...   \n",
       "1  bRT kylegriffin A Miami judge has tossed out another voter fraud case brought by Ron DeSantis el...   \n",
       "2  bRT JHFonseca  CASOS DE MIOCARDITE NA FLxcxRIDA AUMENTAM EM  ENTRE JOVENS DE  E  ANOS APxcxS A V...   \n",
       "3  bRT kylegriffin A Miami judge has tossed out another voter fraud case brought by Ron DeSantis el...   \n",
       "4  bRT kylegriffin The man who shared disinformation about Paul Pelosi allowed hate speech to flour...   \n",
       "\n",
       "                                                                                       tweet_tokenized  \\\n",
       "0  [brt, benrosen, musk, we, must, stop, the, woke, mind, virus, i, hate, unions, and, trans, peopl...   \n",
       "1  [brt, kylegriffin, a, miami, judge, has, tossed, out, another, voter, fraud, case, brought, by, ...   \n",
       "2  [brt, jhfonseca, casos, de, miocardite, na, flxcxrida, aumentam, em, entre, jovens, de, e, anos,...   \n",
       "3  [brt, kylegriffin, a, miami, judge, has, tossed, out, another, voter, fraud, case, brought, by, ...   \n",
       "4  [brt, kylegriffin, the, man, who, shared, disinformation, about, paul, pelosi, allowed, hate, sp...   \n",
       "\n",
       "                                                                                         tweet_nonstop  \\\n",
       "0  [brt, benrosen, musk, must, stop, woke, mind, virus, hate, unions, trans, people, need, republic...   \n",
       "1  [brt, kylegriffin, miami, judge, tossed, another, voter, fraud, case, brought, ron, desantis, el...   \n",
       "2  [brt, jhfonseca, casos, de, miocardite, na, flxcxrida, aumentam, em, entre, jovens, de, e, anos,...   \n",
       "3  [brt, kylegriffin, miami, judge, tossed, another, voter, fraud, case, brought, ron, desantis, el...   \n",
       "4  [brt, kylegriffin, man, shared, disinformation, paul, pelosi, allowed, hate, speech, flourish, p...   \n",
       "\n",
       "                                                                                         tweet_stemmed  \n",
       "0  [brt, benrosen, musk, must, stop, woke, mind, viru, hate, union, tran, peopl, need, republican, ...  \n",
       "1  [brt, kylegriffin, miami, judg, toss, anoth, voter, fraud, case, brought, ron, desanti, elect, p...  \n",
       "2  [brt, jhfonseca, caso, de, miocardit, na, flxcxrida, aumentam, em, entr, joven, de, e, ano, apxc...  \n",
       "3  [brt, kylegriffin, miami, judg, toss, anoth, voter, fraud, case, brought, ron, desanti, elect, p...  \n",
       "4  [brt, kylegriffin, man, share, disinform, paul, pelosi, allow, hate, speech, flourish, platform,...  "
      ]
     },
     "execution_count": 13,
     "metadata": {},
     "output_type": "execute_result"
    }
   ],
   "source": [
    "portStem = nltk.PorterStemmer()\n",
    "\n",
    "def stemming(text):\n",
    "    text = [portStem.stem(word) for word in text]\n",
    "    return text\n",
    "\n",
    "ron_tweets['tweet_stemmed'] = ron_tweets['tweet_nonstop'].apply(lambda x: stemming(x))\n",
    "ron_tweets.head()"
   ]
  },
  {
   "cell_type": "code",
   "execution_count": 14,
   "id": "06e4a1db",
   "metadata": {},
   "outputs": [
    {
     "data": {
      "text/html": [
       "<div>\n",
       "<style scoped>\n",
       "    .dataframe tbody tr th:only-of-type {\n",
       "        vertical-align: middle;\n",
       "    }\n",
       "\n",
       "    .dataframe tbody tr th {\n",
       "        vertical-align: top;\n",
       "    }\n",
       "\n",
       "    .dataframe thead th {\n",
       "        text-align: right;\n",
       "    }\n",
       "</style>\n",
       "<table border=\"1\" class=\"dataframe\">\n",
       "  <thead>\n",
       "    <tr style=\"text-align: right;\">\n",
       "      <th></th>\n",
       "      <th>date</th>\n",
       "      <th>tweet_body</th>\n",
       "      <th>tweet_punct</th>\n",
       "      <th>tweet_tokenized</th>\n",
       "      <th>tweet_nonstop</th>\n",
       "      <th>tweet_stemmed</th>\n",
       "      <th>tweet_lemmatized</th>\n",
       "    </tr>\n",
       "  </thead>\n",
       "  <tbody>\n",
       "    <tr>\n",
       "      <th>0</th>\n",
       "      <td>2022-12-12 14:26:19+00:00</td>\n",
       "      <td>b'RT @ben_rosen: musk: we must stop the woke mind virus, i hate unions and trans people, we need...</td>\n",
       "      <td>bRT benrosen musk we must stop the woke mind virus i hate unions and trans people we need a repu...</td>\n",
       "      <td>[brt, benrosen, musk, we, must, stop, the, woke, mind, virus, i, hate, unions, and, trans, peopl...</td>\n",
       "      <td>[brt, benrosen, musk, must, stop, woke, mind, virus, hate, unions, trans, people, need, republic...</td>\n",
       "      <td>[brt, benrosen, musk, must, stop, woke, mind, viru, hate, union, tran, peopl, need, republican, ...</td>\n",
       "      <td>[brt, benrosen, musk, must, stop, woke, mind, virus, hate, union, trans, people, need, republica...</td>\n",
       "    </tr>\n",
       "    <tr>\n",
       "      <th>1</th>\n",
       "      <td>2022-12-12 14:26:12+00:00</td>\n",
       "      <td>b\"RT @kylegriffin1: A Miami judge has tossed out *another voter fraud case brought by Ron DeSant...</td>\n",
       "      <td>bRT kylegriffin A Miami judge has tossed out another voter fraud case brought by Ron DeSantis el...</td>\n",
       "      <td>[brt, kylegriffin, a, miami, judge, has, tossed, out, another, voter, fraud, case, brought, by, ...</td>\n",
       "      <td>[brt, kylegriffin, miami, judge, tossed, another, voter, fraud, case, brought, ron, desantis, el...</td>\n",
       "      <td>[brt, kylegriffin, miami, judg, toss, anoth, voter, fraud, case, brought, ron, desanti, elect, p...</td>\n",
       "      <td>[brt, kylegriffin, miami, judge, tossed, another, voter, fraud, case, brought, ron, desantis, el...</td>\n",
       "    </tr>\n",
       "    <tr>\n",
       "      <th>2</th>\n",
       "      <td>2022-12-12 14:26:06+00:00</td>\n",
       "      <td>b'RT @JHFonseca: # CASOS DE MIOCARDITE NA FL\\xc3\\x93RIDA AUMENTAM EM 86% ENTRE JOVENS DE 18 E 39...</td>\n",
       "      <td>bRT JHFonseca  CASOS DE MIOCARDITE NA FLxcxRIDA AUMENTAM EM  ENTRE JOVENS DE  E  ANOS APxcxS A V...</td>\n",
       "      <td>[brt, jhfonseca, casos, de, miocardite, na, flxcxrida, aumentam, em, entre, jovens, de, e, anos,...</td>\n",
       "      <td>[brt, jhfonseca, casos, de, miocardite, na, flxcxrida, aumentam, em, entre, jovens, de, e, anos,...</td>\n",
       "      <td>[brt, jhfonseca, caso, de, miocardit, na, flxcxrida, aumentam, em, entr, joven, de, e, ano, apxc...</td>\n",
       "      <td>[brt, jhfonseca, casos, de, miocardite, na, flxcxrida, aumentam, em, entre, jovens, de, e, ano, ...</td>\n",
       "    </tr>\n",
       "    <tr>\n",
       "      <th>3</th>\n",
       "      <td>2022-12-12 14:26:02+00:00</td>\n",
       "      <td>b\"RT @kylegriffin1: A Miami judge has tossed out *another voter fraud case brought by Ron DeSant...</td>\n",
       "      <td>bRT kylegriffin A Miami judge has tossed out another voter fraud case brought by Ron DeSantis el...</td>\n",
       "      <td>[brt, kylegriffin, a, miami, judge, has, tossed, out, another, voter, fraud, case, brought, by, ...</td>\n",
       "      <td>[brt, kylegriffin, miami, judge, tossed, another, voter, fraud, case, brought, ron, desantis, el...</td>\n",
       "      <td>[brt, kylegriffin, miami, judg, toss, anoth, voter, fraud, case, brought, ron, desanti, elect, p...</td>\n",
       "      <td>[brt, kylegriffin, miami, judge, tossed, another, voter, fraud, case, brought, ron, desantis, el...</td>\n",
       "    </tr>\n",
       "    <tr>\n",
       "      <th>4</th>\n",
       "      <td>2022-12-12 14:25:59+00:00</td>\n",
       "      <td>b'RT @kylegriffin1: The man who shared disinformation about Paul Pelosi, allowed hate speech to ...</td>\n",
       "      <td>bRT kylegriffin The man who shared disinformation about Paul Pelosi allowed hate speech to flour...</td>\n",
       "      <td>[brt, kylegriffin, the, man, who, shared, disinformation, about, paul, pelosi, allowed, hate, sp...</td>\n",
       "      <td>[brt, kylegriffin, man, shared, disinformation, paul, pelosi, allowed, hate, speech, flourish, p...</td>\n",
       "      <td>[brt, kylegriffin, man, share, disinform, paul, pelosi, allow, hate, speech, flourish, platform,...</td>\n",
       "      <td>[brt, kylegriffin, man, shared, disinformation, paul, pelosi, allowed, hate, speech, flourish, p...</td>\n",
       "    </tr>\n",
       "  </tbody>\n",
       "</table>\n",
       "</div>"
      ],
      "text/plain": [
       "                        date  \\\n",
       "0  2022-12-12 14:26:19+00:00   \n",
       "1  2022-12-12 14:26:12+00:00   \n",
       "2  2022-12-12 14:26:06+00:00   \n",
       "3  2022-12-12 14:26:02+00:00   \n",
       "4  2022-12-12 14:25:59+00:00   \n",
       "\n",
       "                                                                                            tweet_body  \\\n",
       "0  b'RT @ben_rosen: musk: we must stop the woke mind virus, i hate unions and trans people, we need...   \n",
       "1  b\"RT @kylegriffin1: A Miami judge has tossed out *another voter fraud case brought by Ron DeSant...   \n",
       "2  b'RT @JHFonseca: # CASOS DE MIOCARDITE NA FL\\xc3\\x93RIDA AUMENTAM EM 86% ENTRE JOVENS DE 18 E 39...   \n",
       "3  b\"RT @kylegriffin1: A Miami judge has tossed out *another voter fraud case brought by Ron DeSant...   \n",
       "4  b'RT @kylegriffin1: The man who shared disinformation about Paul Pelosi, allowed hate speech to ...   \n",
       "\n",
       "                                                                                           tweet_punct  \\\n",
       "0  bRT benrosen musk we must stop the woke mind virus i hate unions and trans people we need a repu...   \n",
       "1  bRT kylegriffin A Miami judge has tossed out another voter fraud case brought by Ron DeSantis el...   \n",
       "2  bRT JHFonseca  CASOS DE MIOCARDITE NA FLxcxRIDA AUMENTAM EM  ENTRE JOVENS DE  E  ANOS APxcxS A V...   \n",
       "3  bRT kylegriffin A Miami judge has tossed out another voter fraud case brought by Ron DeSantis el...   \n",
       "4  bRT kylegriffin The man who shared disinformation about Paul Pelosi allowed hate speech to flour...   \n",
       "\n",
       "                                                                                       tweet_tokenized  \\\n",
       "0  [brt, benrosen, musk, we, must, stop, the, woke, mind, virus, i, hate, unions, and, trans, peopl...   \n",
       "1  [brt, kylegriffin, a, miami, judge, has, tossed, out, another, voter, fraud, case, brought, by, ...   \n",
       "2  [brt, jhfonseca, casos, de, miocardite, na, flxcxrida, aumentam, em, entre, jovens, de, e, anos,...   \n",
       "3  [brt, kylegriffin, a, miami, judge, has, tossed, out, another, voter, fraud, case, brought, by, ...   \n",
       "4  [brt, kylegriffin, the, man, who, shared, disinformation, about, paul, pelosi, allowed, hate, sp...   \n",
       "\n",
       "                                                                                         tweet_nonstop  \\\n",
       "0  [brt, benrosen, musk, must, stop, woke, mind, virus, hate, unions, trans, people, need, republic...   \n",
       "1  [brt, kylegriffin, miami, judge, tossed, another, voter, fraud, case, brought, ron, desantis, el...   \n",
       "2  [brt, jhfonseca, casos, de, miocardite, na, flxcxrida, aumentam, em, entre, jovens, de, e, anos,...   \n",
       "3  [brt, kylegriffin, miami, judge, tossed, another, voter, fraud, case, brought, ron, desantis, el...   \n",
       "4  [brt, kylegriffin, man, shared, disinformation, paul, pelosi, allowed, hate, speech, flourish, p...   \n",
       "\n",
       "                                                                                         tweet_stemmed  \\\n",
       "0  [brt, benrosen, musk, must, stop, woke, mind, viru, hate, union, tran, peopl, need, republican, ...   \n",
       "1  [brt, kylegriffin, miami, judg, toss, anoth, voter, fraud, case, brought, ron, desanti, elect, p...   \n",
       "2  [brt, jhfonseca, caso, de, miocardit, na, flxcxrida, aumentam, em, entr, joven, de, e, ano, apxc...   \n",
       "3  [brt, kylegriffin, miami, judg, toss, anoth, voter, fraud, case, brought, ron, desanti, elect, p...   \n",
       "4  [brt, kylegriffin, man, share, disinform, paul, pelosi, allow, hate, speech, flourish, platform,...   \n",
       "\n",
       "                                                                                      tweet_lemmatized  \n",
       "0  [brt, benrosen, musk, must, stop, woke, mind, virus, hate, union, trans, people, need, republica...  \n",
       "1  [brt, kylegriffin, miami, judge, tossed, another, voter, fraud, case, brought, ron, desantis, el...  \n",
       "2  [brt, jhfonseca, casos, de, miocardite, na, flxcxrida, aumentam, em, entre, jovens, de, e, ano, ...  \n",
       "3  [brt, kylegriffin, miami, judge, tossed, another, voter, fraud, case, brought, ron, desantis, el...  \n",
       "4  [brt, kylegriffin, man, shared, disinformation, paul, pelosi, allowed, hate, speech, flourish, p...  "
      ]
     },
     "execution_count": 14,
     "metadata": {},
     "output_type": "execute_result"
    }
   ],
   "source": [
    "wn = nltk.WordNetLemmatizer()\n",
    "\n",
    "def lemmatizer(text):\n",
    "    text = [wn.lemmatize(word) for word in text]\n",
    "    return text\n",
    "\n",
    "ron_tweets['tweet_lemmatized'] = ron_tweets['tweet_nonstop'].apply(lambda x: lemmatizer(x))\n",
    "ron_tweets.head()"
   ]
  },
  {
   "cell_type": "code",
   "execution_count": 15,
   "id": "a5f41e6d",
   "metadata": {},
   "outputs": [],
   "source": [
    "from textblob import TextBlob "
   ]
  },
  {
   "cell_type": "code",
   "execution_count": 16,
   "id": "5571ca35",
   "metadata": {},
   "outputs": [],
   "source": [
    " #Creating a function to get the subjectivity\n",
    " def getSubjectivity(text):\n",
    "   return TextBlob(text).sentiment.subjectivity\n",
    "  \n",
    " #Creating a function to get the polarity\n",
    " def getPolarity(text):\n",
    "   return TextBlob(text).sentiment.polarity"
   ]
  },
  {
   "cell_type": "code",
   "execution_count": 17,
   "id": "3f712e73",
   "metadata": {},
   "outputs": [],
   "source": [
    "ron_tweets['polarity'] = ron_tweets.apply(lambda x: TextBlob(x['tweet_punct']).sentiment.polarity, axis=1)\n",
    "ron_tweets['subjectivity'] = ron_tweets.apply(lambda x: TextBlob(x['tweet_punct']).sentiment.subjectivity, axis=1)"
   ]
  },
  {
   "cell_type": "code",
   "execution_count": 18,
   "id": "74caef13",
   "metadata": {},
   "outputs": [
    {
     "data": {
      "text/html": [
       "<div>\n",
       "<style scoped>\n",
       "    .dataframe tbody tr th:only-of-type {\n",
       "        vertical-align: middle;\n",
       "    }\n",
       "\n",
       "    .dataframe tbody tr th {\n",
       "        vertical-align: top;\n",
       "    }\n",
       "\n",
       "    .dataframe thead th {\n",
       "        text-align: right;\n",
       "    }\n",
       "</style>\n",
       "<table border=\"1\" class=\"dataframe\">\n",
       "  <thead>\n",
       "    <tr style=\"text-align: right;\">\n",
       "      <th></th>\n",
       "      <th>date</th>\n",
       "      <th>tweet_body</th>\n",
       "      <th>tweet_punct</th>\n",
       "      <th>tweet_tokenized</th>\n",
       "      <th>tweet_nonstop</th>\n",
       "      <th>tweet_stemmed</th>\n",
       "      <th>tweet_lemmatized</th>\n",
       "      <th>polarity</th>\n",
       "      <th>subjectivity</th>\n",
       "    </tr>\n",
       "  </thead>\n",
       "  <tbody>\n",
       "    <tr>\n",
       "      <th>0</th>\n",
       "      <td>2022-12-12 14:26:19+00:00</td>\n",
       "      <td>b'RT @ben_rosen: musk: we must stop the woke mind virus, i hate unions and trans people, we need...</td>\n",
       "      <td>bRT benrosen musk we must stop the woke mind virus i hate unions and trans people we need a repu...</td>\n",
       "      <td>[brt, benrosen, musk, we, must, stop, the, woke, mind, virus, i, hate, unions, and, trans, peopl...</td>\n",
       "      <td>[brt, benrosen, musk, must, stop, woke, mind, virus, hate, unions, trans, people, need, republic...</td>\n",
       "      <td>[brt, benrosen, musk, must, stop, woke, mind, viru, hate, union, tran, peopl, need, republican, ...</td>\n",
       "      <td>[brt, benrosen, musk, must, stop, woke, mind, virus, hate, union, trans, people, need, republica...</td>\n",
       "      <td>-0.8</td>\n",
       "      <td>0.9</td>\n",
       "    </tr>\n",
       "    <tr>\n",
       "      <th>1</th>\n",
       "      <td>2022-12-12 14:26:12+00:00</td>\n",
       "      <td>b\"RT @kylegriffin1: A Miami judge has tossed out *another voter fraud case brought by Ron DeSant...</td>\n",
       "      <td>bRT kylegriffin A Miami judge has tossed out another voter fraud case brought by Ron DeSantis el...</td>\n",
       "      <td>[brt, kylegriffin, a, miami, judge, has, tossed, out, another, voter, fraud, case, brought, by, ...</td>\n",
       "      <td>[brt, kylegriffin, miami, judge, tossed, another, voter, fraud, case, brought, ron, desantis, el...</td>\n",
       "      <td>[brt, kylegriffin, miami, judg, toss, anoth, voter, fraud, case, brought, ron, desanti, elect, p...</td>\n",
       "      <td>[brt, kylegriffin, miami, judge, tossed, another, voter, fraud, case, brought, ron, desantis, el...</td>\n",
       "      <td>0.0</td>\n",
       "      <td>0.0</td>\n",
       "    </tr>\n",
       "    <tr>\n",
       "      <th>2</th>\n",
       "      <td>2022-12-12 14:26:06+00:00</td>\n",
       "      <td>b'RT @JHFonseca: # CASOS DE MIOCARDITE NA FL\\xc3\\x93RIDA AUMENTAM EM 86% ENTRE JOVENS DE 18 E 39...</td>\n",
       "      <td>bRT JHFonseca  CASOS DE MIOCARDITE NA FLxcxRIDA AUMENTAM EM  ENTRE JOVENS DE  E  ANOS APxcxS A V...</td>\n",
       "      <td>[brt, jhfonseca, casos, de, miocardite, na, flxcxrida, aumentam, em, entre, jovens, de, e, anos,...</td>\n",
       "      <td>[brt, jhfonseca, casos, de, miocardite, na, flxcxrida, aumentam, em, entre, jovens, de, e, anos,...</td>\n",
       "      <td>[brt, jhfonseca, caso, de, miocardit, na, flxcxrida, aumentam, em, entr, joven, de, e, ano, apxc...</td>\n",
       "      <td>[brt, jhfonseca, casos, de, miocardite, na, flxcxrida, aumentam, em, entre, jovens, de, e, ano, ...</td>\n",
       "      <td>0.0</td>\n",
       "      <td>0.0</td>\n",
       "    </tr>\n",
       "    <tr>\n",
       "      <th>3</th>\n",
       "      <td>2022-12-12 14:26:02+00:00</td>\n",
       "      <td>b\"RT @kylegriffin1: A Miami judge has tossed out *another voter fraud case brought by Ron DeSant...</td>\n",
       "      <td>bRT kylegriffin A Miami judge has tossed out another voter fraud case brought by Ron DeSantis el...</td>\n",
       "      <td>[brt, kylegriffin, a, miami, judge, has, tossed, out, another, voter, fraud, case, brought, by, ...</td>\n",
       "      <td>[brt, kylegriffin, miami, judge, tossed, another, voter, fraud, case, brought, ron, desantis, el...</td>\n",
       "      <td>[brt, kylegriffin, miami, judg, toss, anoth, voter, fraud, case, brought, ron, desanti, elect, p...</td>\n",
       "      <td>[brt, kylegriffin, miami, judge, tossed, another, voter, fraud, case, brought, ron, desantis, el...</td>\n",
       "      <td>0.0</td>\n",
       "      <td>0.0</td>\n",
       "    </tr>\n",
       "    <tr>\n",
       "      <th>4</th>\n",
       "      <td>2022-12-12 14:25:59+00:00</td>\n",
       "      <td>b'RT @kylegriffin1: The man who shared disinformation about Paul Pelosi, allowed hate speech to ...</td>\n",
       "      <td>bRT kylegriffin The man who shared disinformation about Paul Pelosi allowed hate speech to flour...</td>\n",
       "      <td>[brt, kylegriffin, the, man, who, shared, disinformation, about, paul, pelosi, allowed, hate, sp...</td>\n",
       "      <td>[brt, kylegriffin, man, shared, disinformation, paul, pelosi, allowed, hate, speech, flourish, p...</td>\n",
       "      <td>[brt, kylegriffin, man, share, disinform, paul, pelosi, allow, hate, speech, flourish, platform,...</td>\n",
       "      <td>[brt, kylegriffin, man, shared, disinformation, paul, pelosi, allowed, hate, speech, flourish, p...</td>\n",
       "      <td>-0.8</td>\n",
       "      <td>0.9</td>\n",
       "    </tr>\n",
       "  </tbody>\n",
       "</table>\n",
       "</div>"
      ],
      "text/plain": [
       "                        date  \\\n",
       "0  2022-12-12 14:26:19+00:00   \n",
       "1  2022-12-12 14:26:12+00:00   \n",
       "2  2022-12-12 14:26:06+00:00   \n",
       "3  2022-12-12 14:26:02+00:00   \n",
       "4  2022-12-12 14:25:59+00:00   \n",
       "\n",
       "                                                                                            tweet_body  \\\n",
       "0  b'RT @ben_rosen: musk: we must stop the woke mind virus, i hate unions and trans people, we need...   \n",
       "1  b\"RT @kylegriffin1: A Miami judge has tossed out *another voter fraud case brought by Ron DeSant...   \n",
       "2  b'RT @JHFonseca: # CASOS DE MIOCARDITE NA FL\\xc3\\x93RIDA AUMENTAM EM 86% ENTRE JOVENS DE 18 E 39...   \n",
       "3  b\"RT @kylegriffin1: A Miami judge has tossed out *another voter fraud case brought by Ron DeSant...   \n",
       "4  b'RT @kylegriffin1: The man who shared disinformation about Paul Pelosi, allowed hate speech to ...   \n",
       "\n",
       "                                                                                           tweet_punct  \\\n",
       "0  bRT benrosen musk we must stop the woke mind virus i hate unions and trans people we need a repu...   \n",
       "1  bRT kylegriffin A Miami judge has tossed out another voter fraud case brought by Ron DeSantis el...   \n",
       "2  bRT JHFonseca  CASOS DE MIOCARDITE NA FLxcxRIDA AUMENTAM EM  ENTRE JOVENS DE  E  ANOS APxcxS A V...   \n",
       "3  bRT kylegriffin A Miami judge has tossed out another voter fraud case brought by Ron DeSantis el...   \n",
       "4  bRT kylegriffin The man who shared disinformation about Paul Pelosi allowed hate speech to flour...   \n",
       "\n",
       "                                                                                       tweet_tokenized  \\\n",
       "0  [brt, benrosen, musk, we, must, stop, the, woke, mind, virus, i, hate, unions, and, trans, peopl...   \n",
       "1  [brt, kylegriffin, a, miami, judge, has, tossed, out, another, voter, fraud, case, brought, by, ...   \n",
       "2  [brt, jhfonseca, casos, de, miocardite, na, flxcxrida, aumentam, em, entre, jovens, de, e, anos,...   \n",
       "3  [brt, kylegriffin, a, miami, judge, has, tossed, out, another, voter, fraud, case, brought, by, ...   \n",
       "4  [brt, kylegriffin, the, man, who, shared, disinformation, about, paul, pelosi, allowed, hate, sp...   \n",
       "\n",
       "                                                                                         tweet_nonstop  \\\n",
       "0  [brt, benrosen, musk, must, stop, woke, mind, virus, hate, unions, trans, people, need, republic...   \n",
       "1  [brt, kylegriffin, miami, judge, tossed, another, voter, fraud, case, brought, ron, desantis, el...   \n",
       "2  [brt, jhfonseca, casos, de, miocardite, na, flxcxrida, aumentam, em, entre, jovens, de, e, anos,...   \n",
       "3  [brt, kylegriffin, miami, judge, tossed, another, voter, fraud, case, brought, ron, desantis, el...   \n",
       "4  [brt, kylegriffin, man, shared, disinformation, paul, pelosi, allowed, hate, speech, flourish, p...   \n",
       "\n",
       "                                                                                         tweet_stemmed  \\\n",
       "0  [brt, benrosen, musk, must, stop, woke, mind, viru, hate, union, tran, peopl, need, republican, ...   \n",
       "1  [brt, kylegriffin, miami, judg, toss, anoth, voter, fraud, case, brought, ron, desanti, elect, p...   \n",
       "2  [brt, jhfonseca, caso, de, miocardit, na, flxcxrida, aumentam, em, entr, joven, de, e, ano, apxc...   \n",
       "3  [brt, kylegriffin, miami, judg, toss, anoth, voter, fraud, case, brought, ron, desanti, elect, p...   \n",
       "4  [brt, kylegriffin, man, share, disinform, paul, pelosi, allow, hate, speech, flourish, platform,...   \n",
       "\n",
       "                                                                                      tweet_lemmatized  \\\n",
       "0  [brt, benrosen, musk, must, stop, woke, mind, virus, hate, union, trans, people, need, republica...   \n",
       "1  [brt, kylegriffin, miami, judge, tossed, another, voter, fraud, case, brought, ron, desantis, el...   \n",
       "2  [brt, jhfonseca, casos, de, miocardite, na, flxcxrida, aumentam, em, entre, jovens, de, e, ano, ...   \n",
       "3  [brt, kylegriffin, miami, judge, tossed, another, voter, fraud, case, brought, ron, desantis, el...   \n",
       "4  [brt, kylegriffin, man, shared, disinformation, paul, pelosi, allowed, hate, speech, flourish, p...   \n",
       "\n",
       "   polarity  subjectivity  \n",
       "0      -0.8           0.9  \n",
       "1       0.0           0.0  \n",
       "2       0.0           0.0  \n",
       "3       0.0           0.0  \n",
       "4      -0.8           0.9  "
      ]
     },
     "execution_count": 18,
     "metadata": {},
     "output_type": "execute_result"
    }
   ],
   "source": [
    "ron_tweets.head()"
   ]
  },
  {
   "cell_type": "code",
   "execution_count": 19,
   "id": "7531e75a",
   "metadata": {},
   "outputs": [
    {
     "data": {
      "text/plain": [
       "0       -0.800000\n",
       "1        0.000000\n",
       "2        0.000000\n",
       "3        0.000000\n",
       "4       -0.800000\n",
       "           ...   \n",
       "17987    0.178571\n",
       "17988    0.178571\n",
       "17989   -0.300000\n",
       "17990    0.178571\n",
       "17991    0.000000\n",
       "Name: polarity, Length: 17992, dtype: float64"
      ]
     },
     "execution_count": 19,
     "metadata": {},
     "output_type": "execute_result"
    }
   ],
   "source": [
    "\n",
    "n=ron_tweets['polarity']\n",
    "\n",
    "m=pd.Series(n)\n",
    "\n",
    "m"
   ]
  },
  {
   "cell_type": "code",
   "execution_count": 20,
   "id": "8983c4dc",
   "metadata": {},
   "outputs": [
    {
     "name": "stdout",
     "output_type": "stream",
     "text": [
      "3045 8247 6700\n"
     ]
    }
   ],
   "source": [
    "# Initialing variables, 'positive as pos', 'Negative as neg'and 'Neutral as neu'.\n",
    "\n",
    "pos=0\n",
    "neg=0\n",
    "neu=0\n",
    "\n",
    "\n",
    "for items in m:\n",
    "    if items>0:\n",
    "        #print(\"Positive\")\n",
    "        pos=pos+1\n",
    "    elif items<0:\n",
    "        #print(\"Negative\")\n",
    "        neg=neg+1\n",
    "    else:\n",
    "        #print(\"Neutral\")\n",
    "        neu=neu+1\n",
    "        \n",
    "print(pos,neg,neu)"
   ]
  },
  {
   "cell_type": "code",
   "execution_count": 21,
   "id": "58660b50",
   "metadata": {},
   "outputs": [
    {
     "data": {
      "image/png": "[encoded data removed]",
      "text/plain": [
       "<Figure size 432x288 with 1 Axes>"
      ]
     },
     "metadata": {},
     "output_type": "display_data"
    }
   ],
   "source": [
    "pieLabels=[\"Positive\",\"Negative\",\"Neutral\"]\n",
    "\n",
    "populationShare=[pos,neg,neu]\n",
    "\n",
    "figureObject, axesObject = plt.subplots()\n",
    "\n",
    "axesObject.pie(populationShare,labels=pieLabels,autopct='%1.2f',startangle=90)\n",
    "\n",
    "axesObject.axis('equal')\n",
    "\n",
    "plt.show()"
   ]
  },
  {
   "cell_type": "markdown",
   "id": "99fc082a",
   "metadata": {},
   "source": [
    "Similarity analysis using TDIDF Vectorization"
   ]
  },
  {
   "cell_type": "code",
   "execution_count": 22,
   "id": "40e62540",
   "metadata": {},
   "outputs": [],
   "source": [
    "from sklearn.feature_extraction.text import CountVectorizer"
   ]
  },
  {
   "cell_type": "code",
   "execution_count": 23,
   "id": "7e1a66ee",
   "metadata": {},
   "outputs": [],
   "source": [
    "bow=CountVectorizer( min_df=2, max_features=1000)\n",
    "bow.fit(ron_tweets['tweet_punct'])\n",
    "bow_df=bow.transform(ron_tweets['tweet_punct']).toarray()"
   ]
  },
  {
   "cell_type": "code",
   "execution_count": 24,
   "id": "8559425f",
   "metadata": {
    "scrolled": true
   },
   "outputs": [
    {
     "data": {
      "text/plain": [
       "array([[0, 0, 0, ..., 0, 0, 0],\n",
       "       [0, 0, 0, ..., 0, 0, 0],\n",
       "       [0, 0, 0, ..., 0, 0, 0],\n",
       "       ...,\n",
       "       [0, 0, 0, ..., 0, 0, 0],\n",
       "       [0, 0, 0, ..., 0, 0, 0],\n",
       "       [0, 0, 0, ..., 0, 0, 0]])"
      ]
     },
     "execution_count": 24,
     "metadata": {},
     "output_type": "execute_result"
    }
   ],
   "source": [
    "bow_df"
   ]
  },
  {
   "cell_type": "code",
   "execution_count": 25,
   "id": "4bf99844",
   "metadata": {},
   "outputs": [
    {
     "data": {
      "text/plain": [
       "(4457365, 7406000)"
      ]
     },
     "execution_count": 25,
     "metadata": {},
     "output_type": "execute_result"
    }
   ],
   "source": [
    "import gensim\n",
    "tokenize=ron_tweets['tweet_punct'].apply(lambda x: x.split())\n",
    "w2vec_model=gensim.models.Word2Vec(tokenize,min_count = 1, window = 5, sg = 1)\n",
    "w2vec_model.train(tokenize,total_examples= len(ron_tweets['tweet_punct']),epochs=20)"
   ]
  },
  {
   "cell_type": "markdown",
   "id": "20c08cbc",
   "metadata": {},
   "source": [
    "4459622 data points of text is now converted to a 7406000-dimension vector each. "
   ]
  },
  {
   "cell_type": "code",
   "execution_count": 26,
   "id": "6ef70481",
   "metadata": {},
   "outputs": [
    {
     "name": "stdout",
     "output_type": "stream",
     "text": [
      "Word2Vec<vocab=8805, vector_size=100, alpha=0.025>\n"
     ]
    }
   ],
   "source": [
    "print(w2vec_model)"
   ]
  },
  {
   "cell_type": "code",
   "execution_count": 27,
   "id": "30fe88a4",
   "metadata": {
    "scrolled": true
   },
   "outputs": [
    {
     "data": {
      "text/plain": [
       "[('bRT', 16626),\n",
       " ('Ron', 13568),\n",
       " ('to', 13328),\n",
       " ('and', 8112),\n",
       " ('who', 7229),\n",
       " ('on', 7021),\n",
       " ('Paul', 6417),\n",
       " ('endorsed', 6410),\n",
       " ('The', 6149),\n",
       " ('his', 6135),\n",
       " ('hate', 6075),\n",
       " ('the', 6024),\n",
       " ('about', 5939),\n",
       " ('kylegriffin', 5798),\n",
       " ('man', 5649),\n",
       " ('Pelosi', 5648),\n",
       " ('disinformation', 5638),\n",
       " ('speech', 5638),\n",
       " ('platform', 5633),\n",
       " ('flourish', 5631),\n",
       " ('shared', 5626),\n",
       " ('allowed', 5626),\n",
       " ('DeSantis', 5308),\n",
       " ('Dexexxa', 4965),\n",
       " ('nMUSK', 3468),\n",
       " ('for', 3332),\n",
       " ('was', 3170),\n",
       " ('vote', 2956),\n",
       " ('have', 2610),\n",
       " ('in', 2393),\n",
       " ('you', 2327),\n",
       " ('woke', 2238),\n",
       " ('mind', 2161),\n",
       " ('A', 2006),\n",
       " ('Im', 1764),\n",
       " ('literally', 1748),\n",
       " ('everyxexxa', 1737),\n",
       " ('atrupar', 1736),\n",
       " ('libs', 1735),\n",
       " ('a', 1734),\n",
       " ('MUSK', 1734),\n",
       " ('virusnNYT', 1734),\n",
       " ('urging', 1734),\n",
       " ('RepublicannNYT', 1734),\n",
       " ('highfives', 1734),\n",
       " ('Desantis', 1480),\n",
       " ('BlackKnightk', 1468),\n",
       " ('close', 1457),\n",
       " ('as', 1447),\n",
       " ('that', 1310),\n",
       " ('of', 1305),\n",
       " ('has', 1304),\n",
       " ('Stermon', 1303),\n",
       " ('Kent', 1246),\n",
       " ('up', 1229),\n",
       " ('himself', 1216),\n",
       " ('dead', 1202),\n",
       " ('under', 1198),\n",
       " ('sex', 1191),\n",
       " ('DeSantisxexx', 1177),\n",
       " ('right', 1156),\n",
       " ('hes', 1138),\n",
       " ('investigation', 1135),\n",
       " ('challenge', 1135),\n",
       " ('pedophile', 1129),\n",
       " ('becoming', 1129),\n",
       " ('groomer', 1128),\n",
       " ('ends', 1126),\n",
       " ('frontrunner', 1126),\n",
       " ('Trumxexxa', 1126),\n",
       " ('DWUhlfelderLaw', 1100),\n",
       " ('He', 1088),\n",
       " ('criminal', 1054),\n",
       " ('Musk', 1016),\n",
       " ('DE', 1008),\n",
       " ('E', 1007),\n",
       " ('killed', 1005),\n",
       " ('crimes', 965),\n",
       " ('Thursday', 925),\n",
       " ('is', 908),\n",
       " ('Florida', 902),\n",
       " ('we', 895),\n",
       " ('bestie', 878),\n",
       " ('aka', 876),\n",
       " ('i', 867),\n",
       " ('president', 842),\n",
       " ('Republican', 842),\n",
       " ('mRNA', 800),\n",
       " ('out', 796),\n",
       " ('everyone', 783),\n",
       " ('midterms', 773),\n",
       " ('encouraged', 771),\n",
       " ('Joe', 768),\n",
       " ('JuddLegum', 766),\n",
       " ('with', 765),\n",
       " ('repeatedlyxexxa', 764),\n",
       " ('Gov', 759),\n",
       " ('should', 727),\n",
       " ('They', 727),\n",
       " ('Twitter', 710)]"
      ]
     },
     "execution_count": 27,
     "metadata": {},
     "output_type": "execute_result"
    }
   ],
   "source": [
    "from collections import Counter\n",
    "Counter(\" \".join(ron_tweets['tweet_punct']).split()).most_common(100)"
   ]
  },
  {
   "cell_type": "code",
   "execution_count": 28,
   "id": "c8ed6084",
   "metadata": {},
   "outputs": [
    {
     "name": "stderr",
     "output_type": "stream",
     "text": [
      "[nltk_data] Downloading package punkt to\n",
      "[nltk_data]     /Users/raviranjan/nltk_data...\n",
      "[nltk_data]   Package punkt is already up-to-date!\n"
     ]
    },
    {
     "data": {
      "text/plain": [
       "True"
      ]
     },
     "execution_count": 28,
     "metadata": {},
     "output_type": "execute_result"
    }
   ],
   "source": [
    "nltk.download('punkt')"
   ]
  },
  {
   "cell_type": "code",
   "execution_count": 29,
   "id": "5ef162e6",
   "metadata": {},
   "outputs": [
    {
     "name": "stdout",
     "output_type": "stream",
     "text": [
      "                Frequency\n",
      "Word                     \n",
      "ron                 14001\n",
      "b'rt                12205\n",
      "endorsed             6405\n",
      "hate                 6078\n",
      "@kylegriffin1:       5785\n",
      "paul                 5715\n",
      "man                  5652\n",
      "disinformation       5637\n",
      "pelosi,              5636\n",
      "speech               5636\n",
      "shared               5628\n",
      "allowed              5628\n",
      "flourish             5625\n",
      "platform,            5623\n"
     ]
    },
    {
     "data": {
      "text/plain": [
       "<AxesSubplot:xlabel='Word'>"
      ]
     },
     "execution_count": 29,
     "metadata": {},
     "output_type": "execute_result"
    },
    {
     "data": {
      "image/png": "[encoded data removed]",
      "text/plain": [
       "<Figure size 1152x720 with 1 Axes>"
      ]
     },
     "metadata": {
      "needs_background": "light"
     },
     "output_type": "display_data"
    }
   ],
   "source": [
    "\n",
    "\n",
    "top_N = 14\n",
    "\n",
    "df2 = pd.read_csv('ron.csv',\n",
    "                 usecols=['tweet_body','tweet_body'])\n",
    "\n",
    "stopwords = nltk.corpus.stopwords.words('english')\n",
    "# RegEx for stopwords\n",
    "RE_stopwords = r'\\b(?:{})\\b'.format('|'.join(stopwords))\n",
    "# replace '|'-->' ' and drop all stopwords\n",
    "words = (df2.tweet_body\n",
    "           .str.lower()\n",
    "           .replace([r'\\|', RE_stopwords], [' ', ''], regex=True)\n",
    "           .str.cat(sep=' ')\n",
    "           .split()\n",
    ")\n",
    "\n",
    "# generate DF out of Counter\n",
    "rslt = pd.DataFrame(Counter(words).most_common(top_N),\n",
    "                    columns=['Word', 'Frequency']).set_index('Word')\n",
    "print(rslt)\n",
    "\n",
    "# plot\n",
    "rslt.plot.bar(rot=0, figsize=(16,10), width=0.8)"
   ]
  }
 ],
 "metadata": {
  "kernelspec": {
   "display_name": "Python 3",
   "language": "python",
   "name": "python3"
  },
  "language_info": {
   "codemirror_mode": {
    "name": "ipython",
    "version": 3
   },
   "file_extension": ".py",
   "mimetype": "text/x-python",
   "name": "python",
   "nbconvert_exporter": "python",
   "pygments_lexer": "ipython3",
   "version": "3.8.8"
  }
 },
 "nbformat": 4,
 "nbformat_minor": 5
}
