{
 "cells": [
  {
   "cell_type": "code",
   "execution_count": 1,
   "id": "b44d8c59",
   "metadata": {},
   "outputs": [],
   "source": [
    "# Importing libraries \n",
    "import pandas as pd\n",
    "import numpy as np\n",
    "import seaborn as sns\n",
    "import matplotlib.pyplot as plt\n",
    "from sklearn.feature_extraction.text import CountVectorizer\n",
    "import nltk \n",
    "import string\n",
    "import re\n",
    "%matplotlib inline\n",
    "pd.set_option('display.max_colwidth', 100)"
   ]
  },
  {
   "cell_type": "code",
   "execution_count": 2,
   "id": "05d25ed0",
   "metadata": {},
   "outputs": [
    {
     "name": "stderr",
     "output_type": "stream",
     "text": [
      "[nltk_data] Downloading package stopwords to\n",
      "[nltk_data]     /Users/raviranjan/nltk_data...\n",
      "[nltk_data]   Package stopwords is already up-to-date!\n"
     ]
    },
    {
     "data": {
      "text/plain": [
       "True"
      ]
     },
     "execution_count": 2,
     "metadata": {},
     "output_type": "execute_result"
    }
   ],
   "source": [
    "from wordcloud import WordCloud\n",
    "import nltk\n",
    "nltk.download('stopwords')"
   ]
  },
  {
   "cell_type": "code",
   "execution_count": 3,
   "id": "a66d81f7",
   "metadata": {},
   "outputs": [],
   "source": [
    "# Loading dataset containing tweet body collected by get-tweets.py file\n",
    "def load_data():\n",
    "    data = pd.read_csv('trump.csv')\n",
    "    return data"
   ]
  },
  {
   "cell_type": "code",
   "execution_count": 4,
   "id": "b7b9914e",
   "metadata": {
    "scrolled": true
   },
   "outputs": [
    {
     "data": {
      "text/html": [
       "<div>\n",
       "<style scoped>\n",
       "    .dataframe tbody tr th:only-of-type {\n",
       "        vertical-align: middle;\n",
       "    }\n",
       "\n",
       "    .dataframe tbody tr th {\n",
       "        vertical-align: top;\n",
       "    }\n",
       "\n",
       "    .dataframe thead th {\n",
       "        text-align: right;\n",
       "    }\n",
       "</style>\n",
       "<table border=\"1\" class=\"dataframe\">\n",
       "  <thead>\n",
       "    <tr style=\"text-align: right;\">\n",
       "      <th></th>\n",
       "      <th>date</th>\n",
       "      <th>tweet_body</th>\n",
       "    </tr>\n",
       "  </thead>\n",
       "  <tbody>\n",
       "    <tr>\n",
       "      <th>0</th>\n",
       "      <td>2022-12-12 01:46:12+00:00</td>\n",
       "      <td>b'RT @RBReich: Reminder: any lawmakers who engaged in insurrection on January 6th must be held a...</td>\n",
       "    </tr>\n",
       "    <tr>\n",
       "      <th>1</th>\n",
       "      <td>2022-12-12 01:46:09+00:00</td>\n",
       "      <td>b'RT @NickAdamsinUSA: People forget that Donald Trump never took a salary while serving as our C...</td>\n",
       "    </tr>\n",
       "    <tr>\n",
       "      <th>2</th>\n",
       "      <td>2022-12-12 01:46:09+00:00</td>\n",
       "      <td>b'@miguelcgangel Clon de Donald Trump si quieren, pero espero que lo'</td>\n",
       "    </tr>\n",
       "    <tr>\n",
       "      <th>3</th>\n",
       "      <td>2022-12-12 01:46:07+00:00</td>\n",
       "      <td>b'RT @ericareport: BREAKING! Former United States Attorney Barbara McQuade says that there is en...</td>\n",
       "    </tr>\n",
       "    <tr>\n",
       "      <th>4</th>\n",
       "      <td>2022-12-12 01:46:05+00:00</td>\n",
       "      <td>b'@OccupyDemocrats Violent criminal Donald Trump incited violence against U.S. Law Enforcement a...</td>\n",
       "    </tr>\n",
       "  </tbody>\n",
       "</table>\n",
       "</div>"
      ],
      "text/plain": [
       "                        date  \\\n",
       "0  2022-12-12 01:46:12+00:00   \n",
       "1  2022-12-12 01:46:09+00:00   \n",
       "2  2022-12-12 01:46:09+00:00   \n",
       "3  2022-12-12 01:46:07+00:00   \n",
       "4  2022-12-12 01:46:05+00:00   \n",
       "\n",
       "                                                                                            tweet_body  \n",
       "0  b'RT @RBReich: Reminder: any lawmakers who engaged in insurrection on January 6th must be held a...  \n",
       "1  b'RT @NickAdamsinUSA: People forget that Donald Trump never took a salary while serving as our C...  \n",
       "2                                b'@miguelcgangel Clon de Donald Trump si quieren, pero espero que lo'  \n",
       "3  b'RT @ericareport: BREAKING! Former United States Attorney Barbara McQuade says that there is en...  \n",
       "4  b'@OccupyDemocrats Violent criminal Donald Trump incited violence against U.S. Law Enforcement a...  "
      ]
     },
     "execution_count": 4,
     "metadata": {},
     "output_type": "execute_result"
    }
   ],
   "source": [
    "trump_tweets = load_data()\n",
    "trump_tweets.head()"
   ]
  },
  {
   "cell_type": "code",
   "execution_count": 5,
   "id": "ebd96158",
   "metadata": {},
   "outputs": [
    {
     "name": "stdout",
     "output_type": "stream",
     "text": [
      "Shape of Dataset: (17811, 2)\n",
      "Columns of Dataset Index(['date', 'tweet_body'], dtype='object')\n"
     ]
    }
   ],
   "source": [
    "print('Shape of Dataset:',trump_tweets.shape)\n",
    "print('Columns of Dataset',trump_tweets.columns)"
   ]
  },
  {
   "cell_type": "code",
   "execution_count": 6,
   "id": "5e763188",
   "metadata": {
    "scrolled": true
   },
   "outputs": [
    {
     "name": "stdout",
     "output_type": "stream",
     "text": [
      "<class 'pandas.core.frame.DataFrame'>\n",
      "RangeIndex: 17811 entries, 0 to 17810\n",
      "Data columns (total 2 columns):\n",
      " #   Column      Non-Null Count  Dtype \n",
      "---  ------      --------------  ----- \n",
      " 0   date        17811 non-null  object\n",
      " 1   tweet_body  17811 non-null  object\n",
      "dtypes: object(2)\n",
      "memory usage: 278.4+ KB\n"
     ]
    }
   ],
   "source": [
    "trump_tweets.info()"
   ]
  },
  {
   "cell_type": "code",
   "execution_count": 7,
   "id": "6eb7945d",
   "metadata": {},
   "outputs": [
    {
     "data": {
      "image/png": "[encoded data removed]",
      "text/plain": [
       "<Figure size 432x288 with 1 Axes>"
      ]
     },
     "metadata": {
      "needs_background": "light"
     },
     "output_type": "display_data"
    }
   ],
   "source": [
    "# Generating Word Cloud to see the keywords\n",
    "\n",
    "tweet_main_body = \" \".join(review for review in trump_tweets.tweet_body)\n",
    "\n",
    "tweets_word_cloud = WordCloud(collocations = False, background_color = 'white').generate(tweet_main_body)\n",
    "\n",
    "# Display the generated Word Cloud\n",
    "\n",
    "plt.imshow(tweets_word_cloud, interpolation='bilinear')\n",
    "plt.axis(\"off\")\n",
    "plt.show()"
   ]
  },
  {
   "cell_type": "markdown",
   "id": "2ea29e4c",
   "metadata": {},
   "source": [
    "Data preprocessing "
   ]
  },
  {
   "cell_type": "code",
   "execution_count": 8,
   "id": "ccc8c4b8",
   "metadata": {},
   "outputs": [
    {
     "data": {
      "text/plain": [
       "'!\"#$%&\\'()*+,-./:;<=>?@[\\\\]^_`{|}~'"
      ]
     },
     "execution_count": 8,
     "metadata": {},
     "output_type": "execute_result"
    }
   ],
   "source": [
    "string.punctuation"
   ]
  },
  {
   "cell_type": "code",
   "execution_count": 9,
   "id": "c1b253a5",
   "metadata": {},
   "outputs": [
    {
     "data": {
      "text/html": [
       "<div>\n",
       "<style scoped>\n",
       "    .dataframe tbody tr th:only-of-type {\n",
       "        vertical-align: middle;\n",
       "    }\n",
       "\n",
       "    .dataframe tbody tr th {\n",
       "        vertical-align: top;\n",
       "    }\n",
       "\n",
       "    .dataframe thead th {\n",
       "        text-align: right;\n",
       "    }\n",
       "</style>\n",
       "<table border=\"1\" class=\"dataframe\">\n",
       "  <thead>\n",
       "    <tr style=\"text-align: right;\">\n",
       "      <th></th>\n",
       "      <th>date</th>\n",
       "      <th>tweet_body</th>\n",
       "      <th>tweet_punct</th>\n",
       "    </tr>\n",
       "  </thead>\n",
       "  <tbody>\n",
       "    <tr>\n",
       "      <th>0</th>\n",
       "      <td>2022-12-12 01:46:12+00:00</td>\n",
       "      <td>b'RT @RBReich: Reminder: any lawmakers who engaged in insurrection on January 6th must be held a...</td>\n",
       "      <td>bRT RBReich Reminder any lawmakers who engaged in insurrection on January th must be held accoun...</td>\n",
       "    </tr>\n",
       "    <tr>\n",
       "      <th>1</th>\n",
       "      <td>2022-12-12 01:46:09+00:00</td>\n",
       "      <td>b'RT @NickAdamsinUSA: People forget that Donald Trump never took a salary while serving as our C...</td>\n",
       "      <td>bRT NickAdamsinUSA People forget that Donald Trump never took a salary while serving as our Comm...</td>\n",
       "    </tr>\n",
       "    <tr>\n",
       "      <th>2</th>\n",
       "      <td>2022-12-12 01:46:09+00:00</td>\n",
       "      <td>b'@miguelcgangel Clon de Donald Trump si quieren, pero espero que lo'</td>\n",
       "      <td>bmiguelcgangel Clon de Donald Trump si quieren pero espero que lo</td>\n",
       "    </tr>\n",
       "    <tr>\n",
       "      <th>3</th>\n",
       "      <td>2022-12-12 01:46:07+00:00</td>\n",
       "      <td>b'RT @ericareport: BREAKING! Former United States Attorney Barbara McQuade says that there is en...</td>\n",
       "      <td>bRT ericareport BREAKING Former United States Attorney Barbara McQuade says that there is enough...</td>\n",
       "    </tr>\n",
       "    <tr>\n",
       "      <th>4</th>\n",
       "      <td>2022-12-12 01:46:05+00:00</td>\n",
       "      <td>b'@OccupyDemocrats Violent criminal Donald Trump incited violence against U.S. Law Enforcement a...</td>\n",
       "      <td>bOccupyDemocrats Violent criminal Donald Trump incited violence against US Law Enforcement and U...</td>\n",
       "    </tr>\n",
       "    <tr>\n",
       "      <th>5</th>\n",
       "      <td>2022-12-12 01:46:04+00:00</td>\n",
       "      <td>b'https://t.co/sGhk46nqrW'</td>\n",
       "      <td>bhttpstcosGhknqrW</td>\n",
       "    </tr>\n",
       "    <tr>\n",
       "      <th>6</th>\n",
       "      <td>2022-12-12 01:46:04+00:00</td>\n",
       "      <td>b'Donald Trump\\xe2\\x80\\x99s niece calls him \\xe2\\x80\\x98a black hole of need\\xe2\\x80\\x99, says R...</td>\n",
       "      <td>bDonald Trumpxexxs niece calls him xexxa black hole of needxexx says Republicans see him as xexx...</td>\n",
       "    </tr>\n",
       "    <tr>\n",
       "      <th>7</th>\n",
       "      <td>2022-12-12 01:46:02+00:00</td>\n",
       "      <td>b'GOD Bless  T H E  PRESIDENT OF THE US, DONALD J TRUMP https://t.co/uLCW4azxZJ'</td>\n",
       "      <td>bGOD Bless  T H E  PRESIDENT OF THE US DONALD J TRUMP httpstcouLCWazxZJ</td>\n",
       "    </tr>\n",
       "    <tr>\n",
       "      <th>8</th>\n",
       "      <td>2022-12-12 01:46:02+00:00</td>\n",
       "      <td>b'RT @coleyshannon66: @jim_enloe @ShellenbergerMD The insurrection without weapons? The insurrec...</td>\n",
       "      <td>bRT coleyshannon jimenloe ShellenbergerMD The insurrection without weapons The insurrection wher...</td>\n",
       "    </tr>\n",
       "    <tr>\n",
       "      <th>9</th>\n",
       "      <td>2022-12-12 01:45:59+00:00</td>\n",
       "      <td>b\"RT @tribelaw: \\xe2\\x80\\x9cMitt Romney is the first Republican senator to say he won't support ...</td>\n",
       "      <td>bRT tribelaw xexxcMitt Romney is the first Republican senator to say he wont support Donald Trum...</td>\n",
       "    </tr>\n",
       "  </tbody>\n",
       "</table>\n",
       "</div>"
      ],
      "text/plain": [
       "                        date  \\\n",
       "0  2022-12-12 01:46:12+00:00   \n",
       "1  2022-12-12 01:46:09+00:00   \n",
       "2  2022-12-12 01:46:09+00:00   \n",
       "3  2022-12-12 01:46:07+00:00   \n",
       "4  2022-12-12 01:46:05+00:00   \n",
       "5  2022-12-12 01:46:04+00:00   \n",
       "6  2022-12-12 01:46:04+00:00   \n",
       "7  2022-12-12 01:46:02+00:00   \n",
       "8  2022-12-12 01:46:02+00:00   \n",
       "9  2022-12-12 01:45:59+00:00   \n",
       "\n",
       "                                                                                            tweet_body  \\\n",
       "0  b'RT @RBReich: Reminder: any lawmakers who engaged in insurrection on January 6th must be held a...   \n",
       "1  b'RT @NickAdamsinUSA: People forget that Donald Trump never took a salary while serving as our C...   \n",
       "2                                b'@miguelcgangel Clon de Donald Trump si quieren, pero espero que lo'   \n",
       "3  b'RT @ericareport: BREAKING! Former United States Attorney Barbara McQuade says that there is en...   \n",
       "4  b'@OccupyDemocrats Violent criminal Donald Trump incited violence against U.S. Law Enforcement a...   \n",
       "5                                                                           b'https://t.co/sGhk46nqrW'   \n",
       "6  b'Donald Trump\\xe2\\x80\\x99s niece calls him \\xe2\\x80\\x98a black hole of need\\xe2\\x80\\x99, says R...   \n",
       "7                     b'GOD Bless  T H E  PRESIDENT OF THE US, DONALD J TRUMP https://t.co/uLCW4azxZJ'   \n",
       "8  b'RT @coleyshannon66: @jim_enloe @ShellenbergerMD The insurrection without weapons? The insurrec...   \n",
       "9  b\"RT @tribelaw: \\xe2\\x80\\x9cMitt Romney is the first Republican senator to say he won't support ...   \n",
       "\n",
       "                                                                                           tweet_punct  \n",
       "0  bRT RBReich Reminder any lawmakers who engaged in insurrection on January th must be held accoun...  \n",
       "1  bRT NickAdamsinUSA People forget that Donald Trump never took a salary while serving as our Comm...  \n",
       "2                                    bmiguelcgangel Clon de Donald Trump si quieren pero espero que lo  \n",
       "3  bRT ericareport BREAKING Former United States Attorney Barbara McQuade says that there is enough...  \n",
       "4  bOccupyDemocrats Violent criminal Donald Trump incited violence against US Law Enforcement and U...  \n",
       "5                                                                                    bhttpstcosGhknqrW  \n",
       "6  bDonald Trumpxexxs niece calls him xexxa black hole of needxexx says Republicans see him as xexx...  \n",
       "7                              bGOD Bless  T H E  PRESIDENT OF THE US DONALD J TRUMP httpstcouLCWazxZJ  \n",
       "8  bRT coleyshannon jimenloe ShellenbergerMD The insurrection without weapons The insurrection wher...  \n",
       "9  bRT tribelaw xexxcMitt Romney is the first Republican senator to say he wont support Donald Trum...  "
      ]
     },
     "execution_count": 9,
     "metadata": {},
     "output_type": "execute_result"
    }
   ],
   "source": [
    "def remove_punctuation(text):\n",
    "    text  = \"\".join([char for char in text if char not in string.punctuation])\n",
    "    text = re.sub('[0-9]+', '', text)\n",
    "    return text\n",
    "\n",
    "trump_tweets['tweet_punct'] = trump_tweets['tweet_body'].apply(lambda x: remove_punctuation(x))\n",
    "trump_tweets.head(10)"
   ]
  },
  {
   "cell_type": "code",
   "execution_count": 10,
   "id": "5ec291b1",
   "metadata": {},
   "outputs": [
    {
     "data": {
      "text/html": [
       "<div>\n",
       "<style scoped>\n",
       "    .dataframe tbody tr th:only-of-type {\n",
       "        vertical-align: middle;\n",
       "    }\n",
       "\n",
       "    .dataframe tbody tr th {\n",
       "        vertical-align: top;\n",
       "    }\n",
       "\n",
       "    .dataframe thead th {\n",
       "        text-align: right;\n",
       "    }\n",
       "</style>\n",
       "<table border=\"1\" class=\"dataframe\">\n",
       "  <thead>\n",
       "    <tr style=\"text-align: right;\">\n",
       "      <th></th>\n",
       "      <th>date</th>\n",
       "      <th>tweet_body</th>\n",
       "      <th>tweet_punct</th>\n",
       "      <th>tweet_tokenized</th>\n",
       "    </tr>\n",
       "  </thead>\n",
       "  <tbody>\n",
       "    <tr>\n",
       "      <th>0</th>\n",
       "      <td>2022-12-12 01:46:12+00:00</td>\n",
       "      <td>b'RT @RBReich: Reminder: any lawmakers who engaged in insurrection on January 6th must be held a...</td>\n",
       "      <td>bRT RBReich Reminder any lawmakers who engaged in insurrection on January th must be held accoun...</td>\n",
       "      <td>[brt, rbreich, reminder, any, lawmakers, who, engaged, in, insurrection, on, january, th, must, ...</td>\n",
       "    </tr>\n",
       "    <tr>\n",
       "      <th>1</th>\n",
       "      <td>2022-12-12 01:46:09+00:00</td>\n",
       "      <td>b'RT @NickAdamsinUSA: People forget that Donald Trump never took a salary while serving as our C...</td>\n",
       "      <td>bRT NickAdamsinUSA People forget that Donald Trump never took a salary while serving as our Comm...</td>\n",
       "      <td>[brt, nickadamsinusa, people, forget, that, donald, trump, never, took, a, salary, while, servin...</td>\n",
       "    </tr>\n",
       "    <tr>\n",
       "      <th>2</th>\n",
       "      <td>2022-12-12 01:46:09+00:00</td>\n",
       "      <td>b'@miguelcgangel Clon de Donald Trump si quieren, pero espero que lo'</td>\n",
       "      <td>bmiguelcgangel Clon de Donald Trump si quieren pero espero que lo</td>\n",
       "      <td>[bmiguelcgangel, clon, de, donald, trump, si, quieren, pero, espero, que, lo]</td>\n",
       "    </tr>\n",
       "    <tr>\n",
       "      <th>3</th>\n",
       "      <td>2022-12-12 01:46:07+00:00</td>\n",
       "      <td>b'RT @ericareport: BREAKING! Former United States Attorney Barbara McQuade says that there is en...</td>\n",
       "      <td>bRT ericareport BREAKING Former United States Attorney Barbara McQuade says that there is enough...</td>\n",
       "      <td>[brt, ericareport, breaking, former, united, states, attorney, barbara, mcquade, says, that, the...</td>\n",
       "    </tr>\n",
       "    <tr>\n",
       "      <th>4</th>\n",
       "      <td>2022-12-12 01:46:05+00:00</td>\n",
       "      <td>b'@OccupyDemocrats Violent criminal Donald Trump incited violence against U.S. Law Enforcement a...</td>\n",
       "      <td>bOccupyDemocrats Violent criminal Donald Trump incited violence against US Law Enforcement and U...</td>\n",
       "      <td>[boccupydemocrats, violent, criminal, donald, trump, incited, violence, against, us, law, enforc...</td>\n",
       "    </tr>\n",
       "  </tbody>\n",
       "</table>\n",
       "</div>"
      ],
      "text/plain": [
       "                        date  \\\n",
       "0  2022-12-12 01:46:12+00:00   \n",
       "1  2022-12-12 01:46:09+00:00   \n",
       "2  2022-12-12 01:46:09+00:00   \n",
       "3  2022-12-12 01:46:07+00:00   \n",
       "4  2022-12-12 01:46:05+00:00   \n",
       "\n",
       "                                                                                            tweet_body  \\\n",
       "0  b'RT @RBReich: Reminder: any lawmakers who engaged in insurrection on January 6th must be held a...   \n",
       "1  b'RT @NickAdamsinUSA: People forget that Donald Trump never took a salary while serving as our C...   \n",
       "2                                b'@miguelcgangel Clon de Donald Trump si quieren, pero espero que lo'   \n",
       "3  b'RT @ericareport: BREAKING! Former United States Attorney Barbara McQuade says that there is en...   \n",
       "4  b'@OccupyDemocrats Violent criminal Donald Trump incited violence against U.S. Law Enforcement a...   \n",
       "\n",
       "                                                                                           tweet_punct  \\\n",
       "0  bRT RBReich Reminder any lawmakers who engaged in insurrection on January th must be held accoun...   \n",
       "1  bRT NickAdamsinUSA People forget that Donald Trump never took a salary while serving as our Comm...   \n",
       "2                                    bmiguelcgangel Clon de Donald Trump si quieren pero espero que lo   \n",
       "3  bRT ericareport BREAKING Former United States Attorney Barbara McQuade says that there is enough...   \n",
       "4  bOccupyDemocrats Violent criminal Donald Trump incited violence against US Law Enforcement and U...   \n",
       "\n",
       "                                                                                       tweet_tokenized  \n",
       "0  [brt, rbreich, reminder, any, lawmakers, who, engaged, in, insurrection, on, january, th, must, ...  \n",
       "1  [brt, nickadamsinusa, people, forget, that, donald, trump, never, took, a, salary, while, servin...  \n",
       "2                        [bmiguelcgangel, clon, de, donald, trump, si, quieren, pero, espero, que, lo]  \n",
       "3  [brt, ericareport, breaking, former, united, states, attorney, barbara, mcquade, says, that, the...  \n",
       "4  [boccupydemocrats, violent, criminal, donald, trump, incited, violence, against, us, law, enforc...  "
      ]
     },
     "execution_count": 10,
     "metadata": {},
     "output_type": "execute_result"
    }
   ],
   "source": [
    "#Tokenization\n",
    "def tokenization(text):\n",
    "    text = re.split('\\W+', text)\n",
    "    return text\n",
    "\n",
    "trump_tweets['tweet_tokenized'] = trump_tweets['tweet_punct'].apply(lambda x: tokenization(x.lower()))\n",
    "trump_tweets.head()"
   ]
  },
  {
   "cell_type": "markdown",
   "id": "f0c571a8",
   "metadata": {},
   "source": [
    "Removing stop words "
   ]
  },
  {
   "cell_type": "code",
   "execution_count": 11,
   "id": "f9bc3add",
   "metadata": {},
   "outputs": [],
   "source": [
    "stopword = nltk.corpus.stopwords.words('english')"
   ]
  },
  {
   "cell_type": "code",
   "execution_count": 12,
   "id": "3f62aa40",
   "metadata": {
    "scrolled": true
   },
   "outputs": [
    {
     "data": {
      "text/html": [
       "<div>\n",
       "<style scoped>\n",
       "    .dataframe tbody tr th:only-of-type {\n",
       "        vertical-align: middle;\n",
       "    }\n",
       "\n",
       "    .dataframe tbody tr th {\n",
       "        vertical-align: top;\n",
       "    }\n",
       "\n",
       "    .dataframe thead th {\n",
       "        text-align: right;\n",
       "    }\n",
       "</style>\n",
       "<table border=\"1\" class=\"dataframe\">\n",
       "  <thead>\n",
       "    <tr style=\"text-align: right;\">\n",
       "      <th></th>\n",
       "      <th>date</th>\n",
       "      <th>tweet_body</th>\n",
       "      <th>tweet_punct</th>\n",
       "      <th>tweet_tokenized</th>\n",
       "      <th>tweet_nonstop</th>\n",
       "    </tr>\n",
       "  </thead>\n",
       "  <tbody>\n",
       "    <tr>\n",
       "      <th>0</th>\n",
       "      <td>2022-12-12 01:46:12+00:00</td>\n",
       "      <td>b'RT @RBReich: Reminder: any lawmakers who engaged in insurrection on January 6th must be held a...</td>\n",
       "      <td>bRT RBReich Reminder any lawmakers who engaged in insurrection on January th must be held accoun...</td>\n",
       "      <td>[brt, rbreich, reminder, any, lawmakers, who, engaged, in, insurrection, on, january, th, must, ...</td>\n",
       "      <td>[brt, rbreich, reminder, lawmakers, engaged, insurrection, january, th, must, held, accountable,...</td>\n",
       "    </tr>\n",
       "    <tr>\n",
       "      <th>1</th>\n",
       "      <td>2022-12-12 01:46:09+00:00</td>\n",
       "      <td>b'RT @NickAdamsinUSA: People forget that Donald Trump never took a salary while serving as our C...</td>\n",
       "      <td>bRT NickAdamsinUSA People forget that Donald Trump never took a salary while serving as our Comm...</td>\n",
       "      <td>[brt, nickadamsinusa, people, forget, that, donald, trump, never, took, a, salary, while, servin...</td>\n",
       "      <td>[brt, nickadamsinusa, people, forget, donald, trump, never, took, salary, serving, commander, ch...</td>\n",
       "    </tr>\n",
       "    <tr>\n",
       "      <th>2</th>\n",
       "      <td>2022-12-12 01:46:09+00:00</td>\n",
       "      <td>b'@miguelcgangel Clon de Donald Trump si quieren, pero espero que lo'</td>\n",
       "      <td>bmiguelcgangel Clon de Donald Trump si quieren pero espero que lo</td>\n",
       "      <td>[bmiguelcgangel, clon, de, donald, trump, si, quieren, pero, espero, que, lo]</td>\n",
       "      <td>[bmiguelcgangel, clon, de, donald, trump, si, quieren, pero, espero, que, lo]</td>\n",
       "    </tr>\n",
       "    <tr>\n",
       "      <th>3</th>\n",
       "      <td>2022-12-12 01:46:07+00:00</td>\n",
       "      <td>b'RT @ericareport: BREAKING! Former United States Attorney Barbara McQuade says that there is en...</td>\n",
       "      <td>bRT ericareport BREAKING Former United States Attorney Barbara McQuade says that there is enough...</td>\n",
       "      <td>[brt, ericareport, breaking, former, united, states, attorney, barbara, mcquade, says, that, the...</td>\n",
       "      <td>[brt, ericareport, breaking, former, united, states, attorney, barbara, mcquade, says, enough, e...</td>\n",
       "    </tr>\n",
       "    <tr>\n",
       "      <th>4</th>\n",
       "      <td>2022-12-12 01:46:05+00:00</td>\n",
       "      <td>b'@OccupyDemocrats Violent criminal Donald Trump incited violence against U.S. Law Enforcement a...</td>\n",
       "      <td>bOccupyDemocrats Violent criminal Donald Trump incited violence against US Law Enforcement and U...</td>\n",
       "      <td>[boccupydemocrats, violent, criminal, donald, trump, incited, violence, against, us, law, enforc...</td>\n",
       "      <td>[boccupydemocrats, violent, criminal, donald, trump, incited, violence, us, law, enforcement, us...</td>\n",
       "    </tr>\n",
       "  </tbody>\n",
       "</table>\n",
       "</div>"
      ],
      "text/plain": [
       "                        date  \\\n",
       "0  2022-12-12 01:46:12+00:00   \n",
       "1  2022-12-12 01:46:09+00:00   \n",
       "2  2022-12-12 01:46:09+00:00   \n",
       "3  2022-12-12 01:46:07+00:00   \n",
       "4  2022-12-12 01:46:05+00:00   \n",
       "\n",
       "                                                                                            tweet_body  \\\n",
       "0  b'RT @RBReich: Reminder: any lawmakers who engaged in insurrection on January 6th must be held a...   \n",
       "1  b'RT @NickAdamsinUSA: People forget that Donald Trump never took a salary while serving as our C...   \n",
       "2                                b'@miguelcgangel Clon de Donald Trump si quieren, pero espero que lo'   \n",
       "3  b'RT @ericareport: BREAKING! Former United States Attorney Barbara McQuade says that there is en...   \n",
       "4  b'@OccupyDemocrats Violent criminal Donald Trump incited violence against U.S. Law Enforcement a...   \n",
       "\n",
       "                                                                                           tweet_punct  \\\n",
       "0  bRT RBReich Reminder any lawmakers who engaged in insurrection on January th must be held accoun...   \n",
       "1  bRT NickAdamsinUSA People forget that Donald Trump never took a salary while serving as our Comm...   \n",
       "2                                    bmiguelcgangel Clon de Donald Trump si quieren pero espero que lo   \n",
       "3  bRT ericareport BREAKING Former United States Attorney Barbara McQuade says that there is enough...   \n",
       "4  bOccupyDemocrats Violent criminal Donald Trump incited violence against US Law Enforcement and U...   \n",
       "\n",
       "                                                                                       tweet_tokenized  \\\n",
       "0  [brt, rbreich, reminder, any, lawmakers, who, engaged, in, insurrection, on, january, th, must, ...   \n",
       "1  [brt, nickadamsinusa, people, forget, that, donald, trump, never, took, a, salary, while, servin...   \n",
       "2                        [bmiguelcgangel, clon, de, donald, trump, si, quieren, pero, espero, que, lo]   \n",
       "3  [brt, ericareport, breaking, former, united, states, attorney, barbara, mcquade, says, that, the...   \n",
       "4  [boccupydemocrats, violent, criminal, donald, trump, incited, violence, against, us, law, enforc...   \n",
       "\n",
       "                                                                                         tweet_nonstop  \n",
       "0  [brt, rbreich, reminder, lawmakers, engaged, insurrection, january, th, must, held, accountable,...  \n",
       "1  [brt, nickadamsinusa, people, forget, donald, trump, never, took, salary, serving, commander, ch...  \n",
       "2                        [bmiguelcgangel, clon, de, donald, trump, si, quieren, pero, espero, que, lo]  \n",
       "3  [brt, ericareport, breaking, former, united, states, attorney, barbara, mcquade, says, enough, e...  \n",
       "4  [boccupydemocrats, violent, criminal, donald, trump, incited, violence, us, law, enforcement, us...  "
      ]
     },
     "execution_count": 12,
     "metadata": {},
     "output_type": "execute_result"
    }
   ],
   "source": [
    "def remove_stopwords(text):\n",
    "    text = [word for word in text if word not in stopword]\n",
    "    return text\n",
    "    \n",
    "trump_tweets['tweet_nonstop'] = trump_tweets['tweet_tokenized'].apply(lambda x: remove_stopwords(x))\n",
    "trump_tweets.head()"
   ]
  },
  {
   "cell_type": "markdown",
   "id": "5cdf5e0b",
   "metadata": {},
   "source": [
    "Lammitization after stopwords"
   ]
  },
  {
   "cell_type": "code",
   "execution_count": 13,
   "id": "96dae27c",
   "metadata": {},
   "outputs": [
    {
     "data": {
      "text/html": [
       "<div>\n",
       "<style scoped>\n",
       "    .dataframe tbody tr th:only-of-type {\n",
       "        vertical-align: middle;\n",
       "    }\n",
       "\n",
       "    .dataframe tbody tr th {\n",
       "        vertical-align: top;\n",
       "    }\n",
       "\n",
       "    .dataframe thead th {\n",
       "        text-align: right;\n",
       "    }\n",
       "</style>\n",
       "<table border=\"1\" class=\"dataframe\">\n",
       "  <thead>\n",
       "    <tr style=\"text-align: right;\">\n",
       "      <th></th>\n",
       "      <th>date</th>\n",
       "      <th>tweet_body</th>\n",
       "      <th>tweet_punct</th>\n",
       "      <th>tweet_tokenized</th>\n",
       "      <th>tweet_nonstop</th>\n",
       "      <th>tweet_stemmed</th>\n",
       "    </tr>\n",
       "  </thead>\n",
       "  <tbody>\n",
       "    <tr>\n",
       "      <th>0</th>\n",
       "      <td>2022-12-12 01:46:12+00:00</td>\n",
       "      <td>b'RT @RBReich: Reminder: any lawmakers who engaged in insurrection on January 6th must be held a...</td>\n",
       "      <td>bRT RBReich Reminder any lawmakers who engaged in insurrection on January th must be held accoun...</td>\n",
       "      <td>[brt, rbreich, reminder, any, lawmakers, who, engaged, in, insurrection, on, january, th, must, ...</td>\n",
       "      <td>[brt, rbreich, reminder, lawmakers, engaged, insurrection, january, th, must, held, accountable,...</td>\n",
       "      <td>[brt, rbreich, remind, lawmak, engag, insurrect, januari, th, must, held, account, bar, hold, pu...</td>\n",
       "    </tr>\n",
       "    <tr>\n",
       "      <th>1</th>\n",
       "      <td>2022-12-12 01:46:09+00:00</td>\n",
       "      <td>b'RT @NickAdamsinUSA: People forget that Donald Trump never took a salary while serving as our C...</td>\n",
       "      <td>bRT NickAdamsinUSA People forget that Donald Trump never took a salary while serving as our Comm...</td>\n",
       "      <td>[brt, nickadamsinusa, people, forget, that, donald, trump, never, took, a, salary, while, servin...</td>\n",
       "      <td>[brt, nickadamsinusa, people, forget, donald, trump, never, took, salary, serving, commander, ch...</td>\n",
       "      <td>[brt, nickadamsinusa, peopl, forget, donald, trump, never, took, salari, serv, command, chief]</td>\n",
       "    </tr>\n",
       "    <tr>\n",
       "      <th>2</th>\n",
       "      <td>2022-12-12 01:46:09+00:00</td>\n",
       "      <td>b'@miguelcgangel Clon de Donald Trump si quieren, pero espero que lo'</td>\n",
       "      <td>bmiguelcgangel Clon de Donald Trump si quieren pero espero que lo</td>\n",
       "      <td>[bmiguelcgangel, clon, de, donald, trump, si, quieren, pero, espero, que, lo]</td>\n",
       "      <td>[bmiguelcgangel, clon, de, donald, trump, si, quieren, pero, espero, que, lo]</td>\n",
       "      <td>[bmiguelcgangel, clon, de, donald, trump, si, quieren, pero, espero, que, lo]</td>\n",
       "    </tr>\n",
       "    <tr>\n",
       "      <th>3</th>\n",
       "      <td>2022-12-12 01:46:07+00:00</td>\n",
       "      <td>b'RT @ericareport: BREAKING! Former United States Attorney Barbara McQuade says that there is en...</td>\n",
       "      <td>bRT ericareport BREAKING Former United States Attorney Barbara McQuade says that there is enough...</td>\n",
       "      <td>[brt, ericareport, breaking, former, united, states, attorney, barbara, mcquade, says, that, the...</td>\n",
       "      <td>[brt, ericareport, breaking, former, united, states, attorney, barbara, mcquade, says, enough, e...</td>\n",
       "      <td>[brt, ericareport, break, former, unit, state, attorney, barbara, mcquad, say, enough, evid, cha...</td>\n",
       "    </tr>\n",
       "    <tr>\n",
       "      <th>4</th>\n",
       "      <td>2022-12-12 01:46:05+00:00</td>\n",
       "      <td>b'@OccupyDemocrats Violent criminal Donald Trump incited violence against U.S. Law Enforcement a...</td>\n",
       "      <td>bOccupyDemocrats Violent criminal Donald Trump incited violence against US Law Enforcement and U...</td>\n",
       "      <td>[boccupydemocrats, violent, criminal, donald, trump, incited, violence, against, us, law, enforc...</td>\n",
       "      <td>[boccupydemocrats, violent, criminal, donald, trump, incited, violence, us, law, enforcement, us...</td>\n",
       "      <td>[boccupydemocrat, violent, crimin, donald, trump, incit, violenc, us, law, enforc, us, lawmak, o...</td>\n",
       "    </tr>\n",
       "  </tbody>\n",
       "</table>\n",
       "</div>"
      ],
      "text/plain": [
       "                        date  \\\n",
       "0  2022-12-12 01:46:12+00:00   \n",
       "1  2022-12-12 01:46:09+00:00   \n",
       "2  2022-12-12 01:46:09+00:00   \n",
       "3  2022-12-12 01:46:07+00:00   \n",
       "4  2022-12-12 01:46:05+00:00   \n",
       "\n",
       "                                                                                            tweet_body  \\\n",
       "0  b'RT @RBReich: Reminder: any lawmakers who engaged in insurrection on January 6th must be held a...   \n",
       "1  b'RT @NickAdamsinUSA: People forget that Donald Trump never took a salary while serving as our C...   \n",
       "2                                b'@miguelcgangel Clon de Donald Trump si quieren, pero espero que lo'   \n",
       "3  b'RT @ericareport: BREAKING! Former United States Attorney Barbara McQuade says that there is en...   \n",
       "4  b'@OccupyDemocrats Violent criminal Donald Trump incited violence against U.S. Law Enforcement a...   \n",
       "\n",
       "                                                                                           tweet_punct  \\\n",
       "0  bRT RBReich Reminder any lawmakers who engaged in insurrection on January th must be held accoun...   \n",
       "1  bRT NickAdamsinUSA People forget that Donald Trump never took a salary while serving as our Comm...   \n",
       "2                                    bmiguelcgangel Clon de Donald Trump si quieren pero espero que lo   \n",
       "3  bRT ericareport BREAKING Former United States Attorney Barbara McQuade says that there is enough...   \n",
       "4  bOccupyDemocrats Violent criminal Donald Trump incited violence against US Law Enforcement and U...   \n",
       "\n",
       "                                                                                       tweet_tokenized  \\\n",
       "0  [brt, rbreich, reminder, any, lawmakers, who, engaged, in, insurrection, on, january, th, must, ...   \n",
       "1  [brt, nickadamsinusa, people, forget, that, donald, trump, never, took, a, salary, while, servin...   \n",
       "2                        [bmiguelcgangel, clon, de, donald, trump, si, quieren, pero, espero, que, lo]   \n",
       "3  [brt, ericareport, breaking, former, united, states, attorney, barbara, mcquade, says, that, the...   \n",
       "4  [boccupydemocrats, violent, criminal, donald, trump, incited, violence, against, us, law, enforc...   \n",
       "\n",
       "                                                                                         tweet_nonstop  \\\n",
       "0  [brt, rbreich, reminder, lawmakers, engaged, insurrection, january, th, must, held, accountable,...   \n",
       "1  [brt, nickadamsinusa, people, forget, donald, trump, never, took, salary, serving, commander, ch...   \n",
       "2                        [bmiguelcgangel, clon, de, donald, trump, si, quieren, pero, espero, que, lo]   \n",
       "3  [brt, ericareport, breaking, former, united, states, attorney, barbara, mcquade, says, enough, e...   \n",
       "4  [boccupydemocrats, violent, criminal, donald, trump, incited, violence, us, law, enforcement, us...   \n",
       "\n",
       "                                                                                         tweet_stemmed  \n",
       "0  [brt, rbreich, remind, lawmak, engag, insurrect, januari, th, must, held, account, bar, hold, pu...  \n",
       "1       [brt, nickadamsinusa, peopl, forget, donald, trump, never, took, salari, serv, command, chief]  \n",
       "2                        [bmiguelcgangel, clon, de, donald, trump, si, quieren, pero, espero, que, lo]  \n",
       "3  [brt, ericareport, break, former, unit, state, attorney, barbara, mcquad, say, enough, evid, cha...  \n",
       "4  [boccupydemocrat, violent, crimin, donald, trump, incit, violenc, us, law, enforc, us, lawmak, o...  "
      ]
     },
     "execution_count": 13,
     "metadata": {},
     "output_type": "execute_result"
    }
   ],
   "source": [
    "portStem = nltk.PorterStemmer()\n",
    "\n",
    "def stemming(text):\n",
    "    text = [portStem.stem(word) for word in text]\n",
    "    return text\n",
    "\n",
    "trump_tweets['tweet_stemmed'] = trump_tweets['tweet_nonstop'].apply(lambda x: stemming(x))\n",
    "trump_tweets.head()"
   ]
  },
  {
   "cell_type": "code",
   "execution_count": 14,
   "id": "06e4a1db",
   "metadata": {},
   "outputs": [
    {
     "data": {
      "text/html": [
       "<div>\n",
       "<style scoped>\n",
       "    .dataframe tbody tr th:only-of-type {\n",
       "        vertical-align: middle;\n",
       "    }\n",
       "\n",
       "    .dataframe tbody tr th {\n",
       "        vertical-align: top;\n",
       "    }\n",
       "\n",
       "    .dataframe thead th {\n",
       "        text-align: right;\n",
       "    }\n",
       "</style>\n",
       "<table border=\"1\" class=\"dataframe\">\n",
       "  <thead>\n",
       "    <tr style=\"text-align: right;\">\n",
       "      <th></th>\n",
       "      <th>date</th>\n",
       "      <th>tweet_body</th>\n",
       "      <th>tweet_punct</th>\n",
       "      <th>tweet_tokenized</th>\n",
       "      <th>tweet_nonstop</th>\n",
       "      <th>tweet_stemmed</th>\n",
       "      <th>tweet_lemmatized</th>\n",
       "    </tr>\n",
       "  </thead>\n",
       "  <tbody>\n",
       "    <tr>\n",
       "      <th>0</th>\n",
       "      <td>2022-12-12 01:46:12+00:00</td>\n",
       "      <td>b'RT @RBReich: Reminder: any lawmakers who engaged in insurrection on January 6th must be held a...</td>\n",
       "      <td>bRT RBReich Reminder any lawmakers who engaged in insurrection on January th must be held accoun...</td>\n",
       "      <td>[brt, rbreich, reminder, any, lawmakers, who, engaged, in, insurrection, on, january, th, must, ...</td>\n",
       "      <td>[brt, rbreich, reminder, lawmakers, engaged, insurrection, january, th, must, held, accountable,...</td>\n",
       "      <td>[brt, rbreich, remind, lawmak, engag, insurrect, januari, th, must, held, account, bar, hold, pu...</td>\n",
       "      <td>[brt, rbreich, reminder, lawmaker, engaged, insurrection, january, th, must, held, accountable, ...</td>\n",
       "    </tr>\n",
       "    <tr>\n",
       "      <th>1</th>\n",
       "      <td>2022-12-12 01:46:09+00:00</td>\n",
       "      <td>b'RT @NickAdamsinUSA: People forget that Donald Trump never took a salary while serving as our C...</td>\n",
       "      <td>bRT NickAdamsinUSA People forget that Donald Trump never took a salary while serving as our Comm...</td>\n",
       "      <td>[brt, nickadamsinusa, people, forget, that, donald, trump, never, took, a, salary, while, servin...</td>\n",
       "      <td>[brt, nickadamsinusa, people, forget, donald, trump, never, took, salary, serving, commander, ch...</td>\n",
       "      <td>[brt, nickadamsinusa, peopl, forget, donald, trump, never, took, salari, serv, command, chief]</td>\n",
       "      <td>[brt, nickadamsinusa, people, forget, donald, trump, never, took, salary, serving, commander, ch...</td>\n",
       "    </tr>\n",
       "    <tr>\n",
       "      <th>2</th>\n",
       "      <td>2022-12-12 01:46:09+00:00</td>\n",
       "      <td>b'@miguelcgangel Clon de Donald Trump si quieren, pero espero que lo'</td>\n",
       "      <td>bmiguelcgangel Clon de Donald Trump si quieren pero espero que lo</td>\n",
       "      <td>[bmiguelcgangel, clon, de, donald, trump, si, quieren, pero, espero, que, lo]</td>\n",
       "      <td>[bmiguelcgangel, clon, de, donald, trump, si, quieren, pero, espero, que, lo]</td>\n",
       "      <td>[bmiguelcgangel, clon, de, donald, trump, si, quieren, pero, espero, que, lo]</td>\n",
       "      <td>[bmiguelcgangel, clon, de, donald, trump, si, quieren, pero, espero, que, lo]</td>\n",
       "    </tr>\n",
       "    <tr>\n",
       "      <th>3</th>\n",
       "      <td>2022-12-12 01:46:07+00:00</td>\n",
       "      <td>b'RT @ericareport: BREAKING! Former United States Attorney Barbara McQuade says that there is en...</td>\n",
       "      <td>bRT ericareport BREAKING Former United States Attorney Barbara McQuade says that there is enough...</td>\n",
       "      <td>[brt, ericareport, breaking, former, united, states, attorney, barbara, mcquade, says, that, the...</td>\n",
       "      <td>[brt, ericareport, breaking, former, united, states, attorney, barbara, mcquade, says, enough, e...</td>\n",
       "      <td>[brt, ericareport, break, former, unit, state, attorney, barbara, mcquad, say, enough, evid, cha...</td>\n",
       "      <td>[brt, ericareport, breaking, former, united, state, attorney, barbara, mcquade, say, enough, evi...</td>\n",
       "    </tr>\n",
       "    <tr>\n",
       "      <th>4</th>\n",
       "      <td>2022-12-12 01:46:05+00:00</td>\n",
       "      <td>b'@OccupyDemocrats Violent criminal Donald Trump incited violence against U.S. Law Enforcement a...</td>\n",
       "      <td>bOccupyDemocrats Violent criminal Donald Trump incited violence against US Law Enforcement and U...</td>\n",
       "      <td>[boccupydemocrats, violent, criminal, donald, trump, incited, violence, against, us, law, enforc...</td>\n",
       "      <td>[boccupydemocrats, violent, criminal, donald, trump, incited, violence, us, law, enforcement, us...</td>\n",
       "      <td>[boccupydemocrat, violent, crimin, donald, trump, incit, violenc, us, law, enforc, us, lawmak, o...</td>\n",
       "      <td>[boccupydemocrats, violent, criminal, donald, trump, incited, violence, u, law, enforcement, u, ...</td>\n",
       "    </tr>\n",
       "  </tbody>\n",
       "</table>\n",
       "</div>"
      ],
      "text/plain": [
       "                        date  \\\n",
       "0  2022-12-12 01:46:12+00:00   \n",
       "1  2022-12-12 01:46:09+00:00   \n",
       "2  2022-12-12 01:46:09+00:00   \n",
       "3  2022-12-12 01:46:07+00:00   \n",
       "4  2022-12-12 01:46:05+00:00   \n",
       "\n",
       "                                                                                            tweet_body  \\\n",
       "0  b'RT @RBReich: Reminder: any lawmakers who engaged in insurrection on January 6th must be held a...   \n",
       "1  b'RT @NickAdamsinUSA: People forget that Donald Trump never took a salary while serving as our C...   \n",
       "2                                b'@miguelcgangel Clon de Donald Trump si quieren, pero espero que lo'   \n",
       "3  b'RT @ericareport: BREAKING! Former United States Attorney Barbara McQuade says that there is en...   \n",
       "4  b'@OccupyDemocrats Violent criminal Donald Trump incited violence against U.S. Law Enforcement a...   \n",
       "\n",
       "                                                                                           tweet_punct  \\\n",
       "0  bRT RBReich Reminder any lawmakers who engaged in insurrection on January th must be held accoun...   \n",
       "1  bRT NickAdamsinUSA People forget that Donald Trump never took a salary while serving as our Comm...   \n",
       "2                                    bmiguelcgangel Clon de Donald Trump si quieren pero espero que lo   \n",
       "3  bRT ericareport BREAKING Former United States Attorney Barbara McQuade says that there is enough...   \n",
       "4  bOccupyDemocrats Violent criminal Donald Trump incited violence against US Law Enforcement and U...   \n",
       "\n",
       "                                                                                       tweet_tokenized  \\\n",
       "0  [brt, rbreich, reminder, any, lawmakers, who, engaged, in, insurrection, on, january, th, must, ...   \n",
       "1  [brt, nickadamsinusa, people, forget, that, donald, trump, never, took, a, salary, while, servin...   \n",
       "2                        [bmiguelcgangel, clon, de, donald, trump, si, quieren, pero, espero, que, lo]   \n",
       "3  [brt, ericareport, breaking, former, united, states, attorney, barbara, mcquade, says, that, the...   \n",
       "4  [boccupydemocrats, violent, criminal, donald, trump, incited, violence, against, us, law, enforc...   \n",
       "\n",
       "                                                                                         tweet_nonstop  \\\n",
       "0  [brt, rbreich, reminder, lawmakers, engaged, insurrection, january, th, must, held, accountable,...   \n",
       "1  [brt, nickadamsinusa, people, forget, donald, trump, never, took, salary, serving, commander, ch...   \n",
       "2                        [bmiguelcgangel, clon, de, donald, trump, si, quieren, pero, espero, que, lo]   \n",
       "3  [brt, ericareport, breaking, former, united, states, attorney, barbara, mcquade, says, enough, e...   \n",
       "4  [boccupydemocrats, violent, criminal, donald, trump, incited, violence, us, law, enforcement, us...   \n",
       "\n",
       "                                                                                         tweet_stemmed  \\\n",
       "0  [brt, rbreich, remind, lawmak, engag, insurrect, januari, th, must, held, account, bar, hold, pu...   \n",
       "1       [brt, nickadamsinusa, peopl, forget, donald, trump, never, took, salari, serv, command, chief]   \n",
       "2                        [bmiguelcgangel, clon, de, donald, trump, si, quieren, pero, espero, que, lo]   \n",
       "3  [brt, ericareport, break, former, unit, state, attorney, barbara, mcquad, say, enough, evid, cha...   \n",
       "4  [boccupydemocrat, violent, crimin, donald, trump, incit, violenc, us, law, enforc, us, lawmak, o...   \n",
       "\n",
       "                                                                                      tweet_lemmatized  \n",
       "0  [brt, rbreich, reminder, lawmaker, engaged, insurrection, january, th, must, held, accountable, ...  \n",
       "1  [brt, nickadamsinusa, people, forget, donald, trump, never, took, salary, serving, commander, ch...  \n",
       "2                        [bmiguelcgangel, clon, de, donald, trump, si, quieren, pero, espero, que, lo]  \n",
       "3  [brt, ericareport, breaking, former, united, state, attorney, barbara, mcquade, say, enough, evi...  \n",
       "4  [boccupydemocrats, violent, criminal, donald, trump, incited, violence, u, law, enforcement, u, ...  "
      ]
     },
     "execution_count": 14,
     "metadata": {},
     "output_type": "execute_result"
    }
   ],
   "source": [
    "wn = nltk.WordNetLemmatizer()\n",
    "\n",
    "def lemmatizer(text):\n",
    "    text = [wn.lemmatize(word) for word in text]\n",
    "    return text\n",
    "\n",
    "trump_tweets['tweet_lemmatized'] = trump_tweets['tweet_nonstop'].apply(lambda x: lemmatizer(x))\n",
    "trump_tweets.head()"
   ]
  },
  {
   "cell_type": "code",
   "execution_count": 15,
   "id": "a5f41e6d",
   "metadata": {},
   "outputs": [],
   "source": [
    "from textblob import TextBlob "
   ]
  },
  {
   "cell_type": "code",
   "execution_count": 16,
   "id": "5571ca35",
   "metadata": {},
   "outputs": [],
   "source": [
    " #Creating a function to get the subjectivity\n",
    " def getSubjectivity(text):\n",
    "   return TextBlob(text).sentiment.subjectivity\n",
    "  \n",
    " #Creating a function to get the polarity\n",
    " def getPolarity(text):\n",
    "   return TextBlob(text).sentiment.polarity"
   ]
  },
  {
   "cell_type": "code",
   "execution_count": 17,
   "id": "3f712e73",
   "metadata": {},
   "outputs": [],
   "source": [
    "trump_tweets['polarity'] = trump_tweets.apply(lambda x: TextBlob(x['tweet_punct']).sentiment.polarity, axis=1)\n",
    "trump_tweets['subjectivity'] = trump_tweets.apply(lambda x: TextBlob(x['tweet_punct']).sentiment.subjectivity, axis=1)"
   ]
  },
  {
   "cell_type": "code",
   "execution_count": 18,
   "id": "74caef13",
   "metadata": {},
   "outputs": [
    {
     "data": {
      "text/html": [
       "<div>\n",
       "<style scoped>\n",
       "    .dataframe tbody tr th:only-of-type {\n",
       "        vertical-align: middle;\n",
       "    }\n",
       "\n",
       "    .dataframe tbody tr th {\n",
       "        vertical-align: top;\n",
       "    }\n",
       "\n",
       "    .dataframe thead th {\n",
       "        text-align: right;\n",
       "    }\n",
       "</style>\n",
       "<table border=\"1\" class=\"dataframe\">\n",
       "  <thead>\n",
       "    <tr style=\"text-align: right;\">\n",
       "      <th></th>\n",
       "      <th>date</th>\n",
       "      <th>tweet_body</th>\n",
       "      <th>tweet_punct</th>\n",
       "      <th>tweet_tokenized</th>\n",
       "      <th>tweet_nonstop</th>\n",
       "      <th>tweet_stemmed</th>\n",
       "      <th>tweet_lemmatized</th>\n",
       "      <th>polarity</th>\n",
       "      <th>subjectivity</th>\n",
       "    </tr>\n",
       "  </thead>\n",
       "  <tbody>\n",
       "    <tr>\n",
       "      <th>0</th>\n",
       "      <td>2022-12-12 01:46:12+00:00</td>\n",
       "      <td>b'RT @RBReich: Reminder: any lawmakers who engaged in insurrection on January 6th must be held a...</td>\n",
       "      <td>bRT RBReich Reminder any lawmakers who engaged in insurrection on January th must be held accoun...</td>\n",
       "      <td>[brt, rbreich, reminder, any, lawmakers, who, engaged, in, insurrection, on, january, th, must, ...</td>\n",
       "      <td>[brt, rbreich, reminder, lawmakers, engaged, insurrection, january, th, must, held, accountable,...</td>\n",
       "      <td>[brt, rbreich, remind, lawmak, engag, insurrect, januari, th, must, held, account, bar, hold, pu...</td>\n",
       "      <td>[brt, rbreich, reminder, lawmaker, engaged, insurrection, january, th, must, held, accountable, ...</td>\n",
       "      <td>0.0</td>\n",
       "      <td>0.066667</td>\n",
       "    </tr>\n",
       "    <tr>\n",
       "      <th>1</th>\n",
       "      <td>2022-12-12 01:46:09+00:00</td>\n",
       "      <td>b'RT @NickAdamsinUSA: People forget that Donald Trump never took a salary while serving as our C...</td>\n",
       "      <td>bRT NickAdamsinUSA People forget that Donald Trump never took a salary while serving as our Comm...</td>\n",
       "      <td>[brt, nickadamsinusa, people, forget, that, donald, trump, never, took, a, salary, while, servin...</td>\n",
       "      <td>[brt, nickadamsinusa, people, forget, donald, trump, never, took, salary, serving, commander, ch...</td>\n",
       "      <td>[brt, nickadamsinusa, peopl, forget, donald, trump, never, took, salari, serv, command, chief]</td>\n",
       "      <td>[brt, nickadamsinusa, people, forget, donald, trump, never, took, salary, serving, commander, ch...</td>\n",
       "      <td>0.0</td>\n",
       "      <td>0.000000</td>\n",
       "    </tr>\n",
       "    <tr>\n",
       "      <th>2</th>\n",
       "      <td>2022-12-12 01:46:09+00:00</td>\n",
       "      <td>b'@miguelcgangel Clon de Donald Trump si quieren, pero espero que lo'</td>\n",
       "      <td>bmiguelcgangel Clon de Donald Trump si quieren pero espero que lo</td>\n",
       "      <td>[bmiguelcgangel, clon, de, donald, trump, si, quieren, pero, espero, que, lo]</td>\n",
       "      <td>[bmiguelcgangel, clon, de, donald, trump, si, quieren, pero, espero, que, lo]</td>\n",
       "      <td>[bmiguelcgangel, clon, de, donald, trump, si, quieren, pero, espero, que, lo]</td>\n",
       "      <td>[bmiguelcgangel, clon, de, donald, trump, si, quieren, pero, espero, que, lo]</td>\n",
       "      <td>0.0</td>\n",
       "      <td>0.000000</td>\n",
       "    </tr>\n",
       "    <tr>\n",
       "      <th>3</th>\n",
       "      <td>2022-12-12 01:46:07+00:00</td>\n",
       "      <td>b'RT @ericareport: BREAKING! Former United States Attorney Barbara McQuade says that there is en...</td>\n",
       "      <td>bRT ericareport BREAKING Former United States Attorney Barbara McQuade says that there is enough...</td>\n",
       "      <td>[brt, ericareport, breaking, former, united, states, attorney, barbara, mcquade, says, that, the...</td>\n",
       "      <td>[brt, ericareport, breaking, former, united, states, attorney, barbara, mcquade, says, enough, e...</td>\n",
       "      <td>[brt, ericareport, break, former, unit, state, attorney, barbara, mcquad, say, enough, evid, cha...</td>\n",
       "      <td>[brt, ericareport, breaking, former, united, state, attorney, barbara, mcquade, say, enough, evi...</td>\n",
       "      <td>0.0</td>\n",
       "      <td>0.250000</td>\n",
       "    </tr>\n",
       "    <tr>\n",
       "      <th>4</th>\n",
       "      <td>2022-12-12 01:46:05+00:00</td>\n",
       "      <td>b'@OccupyDemocrats Violent criminal Donald Trump incited violence against U.S. Law Enforcement a...</td>\n",
       "      <td>bOccupyDemocrats Violent criminal Donald Trump incited violence against US Law Enforcement and U...</td>\n",
       "      <td>[boccupydemocrats, violent, criminal, donald, trump, incited, violence, against, us, law, enforc...</td>\n",
       "      <td>[boccupydemocrats, violent, criminal, donald, trump, incited, violence, us, law, enforcement, us...</td>\n",
       "      <td>[boccupydemocrat, violent, crimin, donald, trump, incit, violenc, us, law, enforc, us, lawmak, o...</td>\n",
       "      <td>[boccupydemocrats, violent, criminal, donald, trump, incited, violence, u, law, enforcement, u, ...</td>\n",
       "      <td>-0.6</td>\n",
       "      <td>0.775000</td>\n",
       "    </tr>\n",
       "  </tbody>\n",
       "</table>\n",
       "</div>"
      ],
      "text/plain": [
       "                        date  \\\n",
       "0  2022-12-12 01:46:12+00:00   \n",
       "1  2022-12-12 01:46:09+00:00   \n",
       "2  2022-12-12 01:46:09+00:00   \n",
       "3  2022-12-12 01:46:07+00:00   \n",
       "4  2022-12-12 01:46:05+00:00   \n",
       "\n",
       "                                                                                            tweet_body  \\\n",
       "0  b'RT @RBReich: Reminder: any lawmakers who engaged in insurrection on January 6th must be held a...   \n",
       "1  b'RT @NickAdamsinUSA: People forget that Donald Trump never took a salary while serving as our C...   \n",
       "2                                b'@miguelcgangel Clon de Donald Trump si quieren, pero espero que lo'   \n",
       "3  b'RT @ericareport: BREAKING! Former United States Attorney Barbara McQuade says that there is en...   \n",
       "4  b'@OccupyDemocrats Violent criminal Donald Trump incited violence against U.S. Law Enforcement a...   \n",
       "\n",
       "                                                                                           tweet_punct  \\\n",
       "0  bRT RBReich Reminder any lawmakers who engaged in insurrection on January th must be held accoun...   \n",
       "1  bRT NickAdamsinUSA People forget that Donald Trump never took a salary while serving as our Comm...   \n",
       "2                                    bmiguelcgangel Clon de Donald Trump si quieren pero espero que lo   \n",
       "3  bRT ericareport BREAKING Former United States Attorney Barbara McQuade says that there is enough...   \n",
       "4  bOccupyDemocrats Violent criminal Donald Trump incited violence against US Law Enforcement and U...   \n",
       "\n",
       "                                                                                       tweet_tokenized  \\\n",
       "0  [brt, rbreich, reminder, any, lawmakers, who, engaged, in, insurrection, on, january, th, must, ...   \n",
       "1  [brt, nickadamsinusa, people, forget, that, donald, trump, never, took, a, salary, while, servin...   \n",
       "2                        [bmiguelcgangel, clon, de, donald, trump, si, quieren, pero, espero, que, lo]   \n",
       "3  [brt, ericareport, breaking, former, united, states, attorney, barbara, mcquade, says, that, the...   \n",
       "4  [boccupydemocrats, violent, criminal, donald, trump, incited, violence, against, us, law, enforc...   \n",
       "\n",
       "                                                                                         tweet_nonstop  \\\n",
       "0  [brt, rbreich, reminder, lawmakers, engaged, insurrection, january, th, must, held, accountable,...   \n",
       "1  [brt, nickadamsinusa, people, forget, donald, trump, never, took, salary, serving, commander, ch...   \n",
       "2                        [bmiguelcgangel, clon, de, donald, trump, si, quieren, pero, espero, que, lo]   \n",
       "3  [brt, ericareport, breaking, former, united, states, attorney, barbara, mcquade, says, enough, e...   \n",
       "4  [boccupydemocrats, violent, criminal, donald, trump, incited, violence, us, law, enforcement, us...   \n",
       "\n",
       "                                                                                         tweet_stemmed  \\\n",
       "0  [brt, rbreich, remind, lawmak, engag, insurrect, januari, th, must, held, account, bar, hold, pu...   \n",
       "1       [brt, nickadamsinusa, peopl, forget, donald, trump, never, took, salari, serv, command, chief]   \n",
       "2                        [bmiguelcgangel, clon, de, donald, trump, si, quieren, pero, espero, que, lo]   \n",
       "3  [brt, ericareport, break, former, unit, state, attorney, barbara, mcquad, say, enough, evid, cha...   \n",
       "4  [boccupydemocrat, violent, crimin, donald, trump, incit, violenc, us, law, enforc, us, lawmak, o...   \n",
       "\n",
       "                                                                                      tweet_lemmatized  \\\n",
       "0  [brt, rbreich, reminder, lawmaker, engaged, insurrection, january, th, must, held, accountable, ...   \n",
       "1  [brt, nickadamsinusa, people, forget, donald, trump, never, took, salary, serving, commander, ch...   \n",
       "2                        [bmiguelcgangel, clon, de, donald, trump, si, quieren, pero, espero, que, lo]   \n",
       "3  [brt, ericareport, breaking, former, united, state, attorney, barbara, mcquade, say, enough, evi...   \n",
       "4  [boccupydemocrats, violent, criminal, donald, trump, incited, violence, u, law, enforcement, u, ...   \n",
       "\n",
       "   polarity  subjectivity  \n",
       "0       0.0      0.066667  \n",
       "1       0.0      0.000000  \n",
       "2       0.0      0.000000  \n",
       "3       0.0      0.250000  \n",
       "4      -0.6      0.775000  "
      ]
     },
     "execution_count": 18,
     "metadata": {},
     "output_type": "execute_result"
    }
   ],
   "source": [
    "trump_tweets.head()"
   ]
  },
  {
   "cell_type": "code",
   "execution_count": 19,
   "id": "7531e75a",
   "metadata": {},
   "outputs": [
    {
     "data": {
      "text/plain": [
       "0        0.0\n",
       "1        0.0\n",
       "2        0.0\n",
       "3        0.0\n",
       "4       -0.6\n",
       "        ... \n",
       "17806    0.0\n",
       "17807    0.0\n",
       "17808    0.0\n",
       "17809    0.0\n",
       "17810    0.2\n",
       "Name: polarity, Length: 17811, dtype: float64"
      ]
     },
     "execution_count": 19,
     "metadata": {},
     "output_type": "execute_result"
    }
   ],
   "source": [
    "\n",
    "n=trump_tweets['polarity']\n",
    "\n",
    "m=pd.Series(n)\n",
    "\n",
    "m"
   ]
  },
  {
   "cell_type": "code",
   "execution_count": 20,
   "id": "8983c4dc",
   "metadata": {},
   "outputs": [
    {
     "name": "stdout",
     "output_type": "stream",
     "text": [
      "4477 2544 10790\n"
     ]
    }
   ],
   "source": [
    "# Initialing variables, 'positive as pos', 'Negative as neg'and 'Neutral as neu'.\n",
    "\n",
    "pos=0\n",
    "neg=0\n",
    "neu=0\n",
    "\n",
    "\n",
    "for items in m:\n",
    "    if items>0:\n",
    "        #print(\"Positive\")\n",
    "        pos=pos+1\n",
    "    elif items<0:\n",
    "        #print(\"Negative\")\n",
    "        neg=neg+1\n",
    "    else:\n",
    "        #print(\"Neutral\")\n",
    "        neu=neu+1\n",
    "        \n",
    "print(pos,neg,neu)"
   ]
  },
  {
   "cell_type": "code",
   "execution_count": 21,
   "id": "58660b50",
   "metadata": {},
   "outputs": [
    {
     "data": {
      "image/png": "[encoded data removed]",
      "text/plain": [
       "<Figure size 432x288 with 1 Axes>"
      ]
     },
     "metadata": {},
     "output_type": "display_data"
    }
   ],
   "source": [
    "pieLabels=[\"Positive\",\"Negative\",\"Neutral\"]\n",
    "\n",
    "populationShare=[pos,neg,neu]\n",
    "\n",
    "figureObject, axesObject = plt.subplots()\n",
    "\n",
    "axesObject.pie(populationShare,labels=pieLabels,autopct='%1.2f',startangle=90)\n",
    "\n",
    "axesObject.axis('equal')\n",
    "\n",
    "plt.show()"
   ]
  },
  {
   "cell_type": "markdown",
   "id": "99fc082a",
   "metadata": {},
   "source": [
    "Similarity analysis using TDIDF Vectorization"
   ]
  },
  {
   "cell_type": "code",
   "execution_count": 22,
   "id": "40e62540",
   "metadata": {},
   "outputs": [],
   "source": [
    "from sklearn.feature_extraction.text import CountVectorizer"
   ]
  },
  {
   "cell_type": "code",
   "execution_count": 23,
   "id": "7e1a66ee",
   "metadata": {},
   "outputs": [],
   "source": [
    "bow=CountVectorizer( min_df=2, max_features=1000)\n",
    "bow.fit(trump_tweets['tweet_punct'])\n",
    "bow_df=bow.transform(trump_tweets['tweet_punct']).toarray()"
   ]
  },
  {
   "cell_type": "code",
   "execution_count": 24,
   "id": "8559425f",
   "metadata": {
    "scrolled": true
   },
   "outputs": [
    {
     "data": {
      "text/plain": [
       "array([[0, 0, 0, ..., 0, 0, 0],\n",
       "       [0, 0, 0, ..., 0, 0, 0],\n",
       "       [0, 0, 0, ..., 0, 0, 0],\n",
       "       ...,\n",
       "       [0, 0, 0, ..., 0, 0, 0],\n",
       "       [0, 0, 0, ..., 0, 0, 0],\n",
       "       [0, 0, 0, ..., 0, 0, 0]])"
      ]
     },
     "execution_count": 24,
     "metadata": {},
     "output_type": "execute_result"
    }
   ],
   "source": [
    "bow_df"
   ]
  },
  {
   "cell_type": "code",
   "execution_count": 25,
   "id": "4bf99844",
   "metadata": {},
   "outputs": [
    {
     "data": {
      "text/plain": [
       "(5097118, 7101860)"
      ]
     },
     "execution_count": 25,
     "metadata": {},
     "output_type": "execute_result"
    }
   ],
   "source": [
    "import gensim\n",
    "tokenize=trump_tweets['tweet_punct'].apply(lambda x: x.split())\n",
    "w2vec_model=gensim.models.Word2Vec(tokenize,min_count = 1, window = 5, sg = 1)\n",
    "w2vec_model.train(tokenize,total_examples= len(trump_tweets['tweet_punct']),epochs=20)"
   ]
  },
  {
   "cell_type": "markdown",
   "id": "20c08cbc",
   "metadata": {},
   "source": [
    "5097098 data points of text is now converted to a 7101860-dimension vector each. "
   ]
  },
  {
   "cell_type": "code",
   "execution_count": 26,
   "id": "6ef70481",
   "metadata": {},
   "outputs": [
    {
     "name": "stdout",
     "output_type": "stream",
     "text": [
      "Word2Vec<vocab=13437, vector_size=100, alpha=0.025>\n"
     ]
    }
   ],
   "source": [
    "print(w2vec_model)"
   ]
  },
  {
   "cell_type": "code",
   "execution_count": 27,
   "id": "30fe88a4",
   "metadata": {
    "scrolled": true
   },
   "outputs": [
    {
     "data": {
      "text/plain": [
       "[('bRT', 15179),\n",
       " ('Donald', 13068),\n",
       " ('Trump', 12610),\n",
       " ('the', 8611),\n",
       " ('to', 7274),\n",
       " ('is', 7055),\n",
       " ('that', 6378),\n",
       " ('of', 5607),\n",
       " ('a', 4814),\n",
       " ('and', 4278),\n",
       " ('with', 3887),\n",
       " ('BREAKING', 3502),\n",
       " ('there', 3287),\n",
       " ('ericareport', 3230),\n",
       " ('in', 3229),\n",
       " ('Twitter', 3058),\n",
       " ('Former', 3039),\n",
       " ('says', 3022),\n",
       " ('enough', 3006),\n",
       " ('United', 2969),\n",
       " ('States', 2968),\n",
       " ('evidence', 2947),\n",
       " ('charge', 2932),\n",
       " ('Attorney', 2927),\n",
       " ('McQuade', 2884),\n",
       " ('Barbara', 2882),\n",
       " ('MANxexxa', 2882),\n",
       " ('was', 2865),\n",
       " ('you', 1882),\n",
       " ('for', 1861),\n",
       " ('January', 1621),\n",
       " ('The', 1606),\n",
       " ('as', 1531),\n",
       " ('has', 1436),\n",
       " ('who', 1385),\n",
       " ('done', 1343),\n",
       " ('Removal', 1244),\n",
       " ('his', 1212),\n",
       " ('ShellenbergerMD', 1198),\n",
       " ('executives', 1171),\n",
       " ('he', 1160),\n",
       " ('President', 1087),\n",
       " ('thexexxa', 1080),\n",
       " ('FILES', 1021),\n",
       " ('nnThe', 1021),\n",
       " ('TWITTER', 1020),\n",
       " ('PART', 1016),\n",
       " ('pressure', 1012),\n",
       " ('builds', 1012),\n",
       " ('nnAs', 1011),\n",
       " ('build', 1010),\n",
       " ('I', 1002),\n",
       " ('by', 988),\n",
       " ('from', 966),\n",
       " ('que', 934),\n",
       " ('on', 889),\n",
       " ('not', 858),\n",
       " ('out', 814),\n",
       " ('violence', 813),\n",
       " ('do', 802),\n",
       " ('than', 785),\n",
       " ('JamesBradleyCA', 784),\n",
       " ('Republican', 771),\n",
       " ('Musk', 761),\n",
       " ('are', 747),\n",
       " ('want', 739),\n",
       " ('NickAdamsinUSA', 735),\n",
       " ('all', 735),\n",
       " ('name', 723),\n",
       " ('far', 704),\n",
       " ('worse', 686),\n",
       " ('inxexxa', 676),\n",
       " ('George', 670),\n",
       " ('anything', 669),\n",
       " ('Elon', 662),\n",
       " ('damage', 662),\n",
       " ('Floyd', 661),\n",
       " ('allegedly', 661),\n",
       " ('had', 649),\n",
       " ('Steve', 634),\n",
       " ('man', 615),\n",
       " ('first', 613),\n",
       " ('have', 612),\n",
       " ('our', 600),\n",
       " ('forget', 595),\n",
       " ('never', 592),\n",
       " ('while', 582),\n",
       " ('we', 579),\n",
       " ('Republicans', 573),\n",
       " ('former', 573),\n",
       " ('if', 555),\n",
       " ('but', 552),\n",
       " ('took', 549),\n",
       " ('If', 549),\n",
       " ('did', 546),\n",
       " ('txexxa', 546),\n",
       " ('been', 545),\n",
       " ('th', 539),\n",
       " ('Obama', 535),\n",
       " ('back', 516)]"
      ]
     },
     "execution_count": 27,
     "metadata": {},
     "output_type": "execute_result"
    }
   ],
   "source": [
    "from collections import Counter\n",
    "Counter(\" \".join(trump_tweets['tweet_punct']).split()).most_common(100)"
   ]
  },
  {
   "cell_type": "code",
   "execution_count": 28,
   "id": "c8ed6084",
   "metadata": {},
   "outputs": [
    {
     "name": "stderr",
     "output_type": "stream",
     "text": [
      "[nltk_data] Downloading package punkt to\n",
      "[nltk_data]     /Users/raviranjan/nltk_data...\n",
      "[nltk_data]   Package punkt is already up-to-date!\n"
     ]
    },
    {
     "data": {
      "text/plain": [
       "True"
      ]
     },
     "execution_count": 28,
     "metadata": {},
     "output_type": "execute_result"
    }
   ],
   "source": [
    "nltk.download('punkt')"
   ]
  },
  {
   "cell_type": "code",
   "execution_count": 29,
   "id": "5ef162e6",
   "metadata": {},
   "outputs": [
    {
     "name": "stdout",
     "output_type": "stream",
     "text": [
      "               Frequency\n",
      "Word                    \n",
      "b'rt               13624\n",
      "donald             13107\n",
      "trump              10068\n",
      "twitter             4200\n",
      "former              3598\n",
      "@ericareport:       3210\n",
      "says                3033\n",
      "enough              3004\n",
      "states              2984\n",
      "united              2971\n",
      "evidence            2940\n",
      "attorney            2933\n",
      "charge              2931\n",
      "breaking!           2896\n"
     ]
    },
    {
     "data": {
      "text/plain": [
       "<AxesSubplot:xlabel='Word'>"
      ]
     },
     "execution_count": 29,
     "metadata": {},
     "output_type": "execute_result"
    },
    {
     "data": {
      "image/png": "[encoded data removed]",
      "text/plain": [
       "<Figure size 1152x720 with 1 Axes>"
      ]
     },
     "metadata": {
      "needs_background": "light"
     },
     "output_type": "display_data"
    }
   ],
   "source": [
    "\n",
    "\n",
    "top_N = 14\n",
    "\n",
    "df2 = pd.read_csv('trump.csv',\n",
    "                 usecols=['tweet_body','tweet_body'])\n",
    "\n",
    "stopwords = nltk.corpus.stopwords.words('english')\n",
    "# RegEx for stopwords\n",
    "RE_stopwords = r'\\b(?:{})\\b'.format('|'.join(stopwords))\n",
    "# replace '|'-->' ' and drop all stopwords\n",
    "words = (df2.tweet_body\n",
    "           .str.lower()\n",
    "           .replace([r'\\|', RE_stopwords], [' ', ''], regex=True)\n",
    "           .str.cat(sep=' ')\n",
    "           .split()\n",
    ")\n",
    "\n",
    "# generate DF out of Counter\n",
    "rslt = pd.DataFrame(Counter(words).most_common(top_N),\n",
    "                    columns=['Word', 'Frequency']).set_index('Word')\n",
    "print(rslt)\n",
    "\n",
    "# plot\n",
    "rslt.plot.bar(rot=0, figsize=(16,10), width=0.8)"
   ]
  },
  {
   "cell_type": "code",
   "execution_count": null,
   "id": "9ea33342",
   "metadata": {},
   "outputs": [],
   "source": []
  },
  {
   "cell_type": "code",
   "execution_count": null,
   "id": "4eba461f",
   "metadata": {},
   "outputs": [],
   "source": []
  }
 ],
 "metadata": {
  "kernelspec": {
   "display_name": "Python 3",
   "language": "python",
   "name": "python3"
  },
  "language_info": {
   "codemirror_mode": {
    "name": "ipython",
    "version": 3
   },
   "file_extension": ".py",
   "mimetype": "text/x-python",
   "name": "python",
   "nbconvert_exporter": "python",
   "pygments_lexer": "ipython3",
   "version": "3.8.8"
  }
 },
 "nbformat": 4,
 "nbformat_minor": 5
}
